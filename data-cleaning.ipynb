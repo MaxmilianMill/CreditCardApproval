{
 "cells": [
  {
   "cell_type": "markdown",
   "source": [
    "# Data Cleaning\n",
    "Before we apply our ML models, we need to clean and preprocess the data.\n",
    "In order to clean the data we will go through different steps:\n",
    "1. Data Investigation --> Investigate features and understand the structure of the data\n",
    "2. Data Transformation --> Transform variables and create important features out of the raw data"
   ],
   "metadata": {
    "collapsed": false,
    "pycharm": {
     "name": "#%% md\n"
    }
   }
  },
  {
   "cell_type": "code",
   "execution_count": 82,
   "metadata": {
    "collapsed": true,
    "pycharm": {
     "name": "#%%\n"
    }
   },
   "outputs": [],
   "source": [
    "# install libraries\n",
    "import pandas as pd\n",
    "import numpy as np\n",
    "import matplotlib.pyplot as plt\n",
    "import json"
   ]
  },
  {
   "cell_type": "code",
   "execution_count": 3,
   "outputs": [],
   "source": [
    "# import the data into pandas data frame\n",
    "application_data = pd.read_csv('data/application_record.csv')\n",
    "credit_data = pd.read_csv('data/credit_record.csv')"
   ],
   "metadata": {
    "collapsed": false,
    "pycharm": {
     "name": "#%%\n"
    }
   }
  },
  {
   "cell_type": "code",
   "execution_count": 4,
   "outputs": [
    {
     "data": {
      "text/plain": "             ID CODE_GENDER FLAG_OWN_CAR FLAG_OWN_REALTY  CNT_CHILDREN  \\\n0       5008804           M            Y               Y             0   \n1       5008805           M            Y               Y             0   \n2       5008806           M            Y               Y             0   \n3       5008808           F            N               Y             0   \n4       5008809           F            N               Y             0   \n...         ...         ...          ...             ...           ...   \n438552  6840104           M            N               Y             0   \n438553  6840222           F            N               N             0   \n438554  6841878           F            N               N             0   \n438555  6842765           F            N               Y             0   \n438556  6842885           F            N               Y             0   \n\n        AMT_INCOME_TOTAL      NAME_INCOME_TYPE            NAME_EDUCATION_TYPE  \\\n0               427500.0               Working               Higher education   \n1               427500.0               Working               Higher education   \n2               112500.0               Working  Secondary / secondary special   \n3               270000.0  Commercial associate  Secondary / secondary special   \n4               270000.0  Commercial associate  Secondary / secondary special   \n...                  ...                   ...                            ...   \n438552          135000.0             Pensioner  Secondary / secondary special   \n438553          103500.0               Working  Secondary / secondary special   \n438554           54000.0  Commercial associate               Higher education   \n438555           72000.0             Pensioner  Secondary / secondary special   \n438556          121500.0               Working  Secondary / secondary special   \n\n          NAME_FAMILY_STATUS  NAME_HOUSING_TYPE  DAYS_BIRTH  DAYS_EMPLOYED  \\\n0             Civil marriage   Rented apartment      -12005          -4542   \n1             Civil marriage   Rented apartment      -12005          -4542   \n2                    Married  House / apartment      -21474          -1134   \n3       Single / not married  House / apartment      -19110          -3051   \n4       Single / not married  House / apartment      -19110          -3051   \n...                      ...                ...         ...            ...   \n438552             Separated  House / apartment      -22717         365243   \n438553  Single / not married  House / apartment      -15939          -3007   \n438554  Single / not married       With parents       -8169           -372   \n438555               Married  House / apartment      -21673         365243   \n438556               Married  House / apartment      -18858          -1201   \n\n        FLAG_MOBIL  FLAG_WORK_PHONE  FLAG_PHONE  FLAG_EMAIL OCCUPATION_TYPE  \\\n0                1                1           0           0             NaN   \n1                1                1           0           0             NaN   \n2                1                0           0           0  Security staff   \n3                1                0           1           1     Sales staff   \n4                1                0           1           1     Sales staff   \n...            ...              ...         ...         ...             ...   \n438552           1                0           0           0             NaN   \n438553           1                0           0           0        Laborers   \n438554           1                1           0           0     Sales staff   \n438555           1                0           0           0             NaN   \n438556           1                0           1           0     Sales staff   \n\n        CNT_FAM_MEMBERS  \n0                   2.0  \n1                   2.0  \n2                   2.0  \n3                   1.0  \n4                   1.0  \n...                 ...  \n438552              1.0  \n438553              1.0  \n438554              1.0  \n438555              2.0  \n438556              2.0  \n\n[438557 rows x 18 columns]",
      "text/html": "<div>\n<style scoped>\n    .dataframe tbody tr th:only-of-type {\n        vertical-align: middle;\n    }\n\n    .dataframe tbody tr th {\n        vertical-align: top;\n    }\n\n    .dataframe thead th {\n        text-align: right;\n    }\n</style>\n<table border=\"1\" class=\"dataframe\">\n  <thead>\n    <tr style=\"text-align: right;\">\n      <th></th>\n      <th>ID</th>\n      <th>CODE_GENDER</th>\n      <th>FLAG_OWN_CAR</th>\n      <th>FLAG_OWN_REALTY</th>\n      <th>CNT_CHILDREN</th>\n      <th>AMT_INCOME_TOTAL</th>\n      <th>NAME_INCOME_TYPE</th>\n      <th>NAME_EDUCATION_TYPE</th>\n      <th>NAME_FAMILY_STATUS</th>\n      <th>NAME_HOUSING_TYPE</th>\n      <th>DAYS_BIRTH</th>\n      <th>DAYS_EMPLOYED</th>\n      <th>FLAG_MOBIL</th>\n      <th>FLAG_WORK_PHONE</th>\n      <th>FLAG_PHONE</th>\n      <th>FLAG_EMAIL</th>\n      <th>OCCUPATION_TYPE</th>\n      <th>CNT_FAM_MEMBERS</th>\n    </tr>\n  </thead>\n  <tbody>\n    <tr>\n      <th>0</th>\n      <td>5008804</td>\n      <td>M</td>\n      <td>Y</td>\n      <td>Y</td>\n      <td>0</td>\n      <td>427500.0</td>\n      <td>Working</td>\n      <td>Higher education</td>\n      <td>Civil marriage</td>\n      <td>Rented apartment</td>\n      <td>-12005</td>\n      <td>-4542</td>\n      <td>1</td>\n      <td>1</td>\n      <td>0</td>\n      <td>0</td>\n      <td>NaN</td>\n      <td>2.0</td>\n    </tr>\n    <tr>\n      <th>1</th>\n      <td>5008805</td>\n      <td>M</td>\n      <td>Y</td>\n      <td>Y</td>\n      <td>0</td>\n      <td>427500.0</td>\n      <td>Working</td>\n      <td>Higher education</td>\n      <td>Civil marriage</td>\n      <td>Rented apartment</td>\n      <td>-12005</td>\n      <td>-4542</td>\n      <td>1</td>\n      <td>1</td>\n      <td>0</td>\n      <td>0</td>\n      <td>NaN</td>\n      <td>2.0</td>\n    </tr>\n    <tr>\n      <th>2</th>\n      <td>5008806</td>\n      <td>M</td>\n      <td>Y</td>\n      <td>Y</td>\n      <td>0</td>\n      <td>112500.0</td>\n      <td>Working</td>\n      <td>Secondary / secondary special</td>\n      <td>Married</td>\n      <td>House / apartment</td>\n      <td>-21474</td>\n      <td>-1134</td>\n      <td>1</td>\n      <td>0</td>\n      <td>0</td>\n      <td>0</td>\n      <td>Security staff</td>\n      <td>2.0</td>\n    </tr>\n    <tr>\n      <th>3</th>\n      <td>5008808</td>\n      <td>F</td>\n      <td>N</td>\n      <td>Y</td>\n      <td>0</td>\n      <td>270000.0</td>\n      <td>Commercial associate</td>\n      <td>Secondary / secondary special</td>\n      <td>Single / not married</td>\n      <td>House / apartment</td>\n      <td>-19110</td>\n      <td>-3051</td>\n      <td>1</td>\n      <td>0</td>\n      <td>1</td>\n      <td>1</td>\n      <td>Sales staff</td>\n      <td>1.0</td>\n    </tr>\n    <tr>\n      <th>4</th>\n      <td>5008809</td>\n      <td>F</td>\n      <td>N</td>\n      <td>Y</td>\n      <td>0</td>\n      <td>270000.0</td>\n      <td>Commercial associate</td>\n      <td>Secondary / secondary special</td>\n      <td>Single / not married</td>\n      <td>House / apartment</td>\n      <td>-19110</td>\n      <td>-3051</td>\n      <td>1</td>\n      <td>0</td>\n      <td>1</td>\n      <td>1</td>\n      <td>Sales staff</td>\n      <td>1.0</td>\n    </tr>\n    <tr>\n      <th>...</th>\n      <td>...</td>\n      <td>...</td>\n      <td>...</td>\n      <td>...</td>\n      <td>...</td>\n      <td>...</td>\n      <td>...</td>\n      <td>...</td>\n      <td>...</td>\n      <td>...</td>\n      <td>...</td>\n      <td>...</td>\n      <td>...</td>\n      <td>...</td>\n      <td>...</td>\n      <td>...</td>\n      <td>...</td>\n      <td>...</td>\n    </tr>\n    <tr>\n      <th>438552</th>\n      <td>6840104</td>\n      <td>M</td>\n      <td>N</td>\n      <td>Y</td>\n      <td>0</td>\n      <td>135000.0</td>\n      <td>Pensioner</td>\n      <td>Secondary / secondary special</td>\n      <td>Separated</td>\n      <td>House / apartment</td>\n      <td>-22717</td>\n      <td>365243</td>\n      <td>1</td>\n      <td>0</td>\n      <td>0</td>\n      <td>0</td>\n      <td>NaN</td>\n      <td>1.0</td>\n    </tr>\n    <tr>\n      <th>438553</th>\n      <td>6840222</td>\n      <td>F</td>\n      <td>N</td>\n      <td>N</td>\n      <td>0</td>\n      <td>103500.0</td>\n      <td>Working</td>\n      <td>Secondary / secondary special</td>\n      <td>Single / not married</td>\n      <td>House / apartment</td>\n      <td>-15939</td>\n      <td>-3007</td>\n      <td>1</td>\n      <td>0</td>\n      <td>0</td>\n      <td>0</td>\n      <td>Laborers</td>\n      <td>1.0</td>\n    </tr>\n    <tr>\n      <th>438554</th>\n      <td>6841878</td>\n      <td>F</td>\n      <td>N</td>\n      <td>N</td>\n      <td>0</td>\n      <td>54000.0</td>\n      <td>Commercial associate</td>\n      <td>Higher education</td>\n      <td>Single / not married</td>\n      <td>With parents</td>\n      <td>-8169</td>\n      <td>-372</td>\n      <td>1</td>\n      <td>1</td>\n      <td>0</td>\n      <td>0</td>\n      <td>Sales staff</td>\n      <td>1.0</td>\n    </tr>\n    <tr>\n      <th>438555</th>\n      <td>6842765</td>\n      <td>F</td>\n      <td>N</td>\n      <td>Y</td>\n      <td>0</td>\n      <td>72000.0</td>\n      <td>Pensioner</td>\n      <td>Secondary / secondary special</td>\n      <td>Married</td>\n      <td>House / apartment</td>\n      <td>-21673</td>\n      <td>365243</td>\n      <td>1</td>\n      <td>0</td>\n      <td>0</td>\n      <td>0</td>\n      <td>NaN</td>\n      <td>2.0</td>\n    </tr>\n    <tr>\n      <th>438556</th>\n      <td>6842885</td>\n      <td>F</td>\n      <td>N</td>\n      <td>Y</td>\n      <td>0</td>\n      <td>121500.0</td>\n      <td>Working</td>\n      <td>Secondary / secondary special</td>\n      <td>Married</td>\n      <td>House / apartment</td>\n      <td>-18858</td>\n      <td>-1201</td>\n      <td>1</td>\n      <td>0</td>\n      <td>1</td>\n      <td>0</td>\n      <td>Sales staff</td>\n      <td>2.0</td>\n    </tr>\n  </tbody>\n</table>\n<p>438557 rows × 18 columns</p>\n</div>"
     },
     "execution_count": 4,
     "metadata": {},
     "output_type": "execute_result"
    }
   ],
   "source": [
    "application_data"
   ],
   "metadata": {
    "collapsed": false,
    "pycharm": {
     "name": "#%%\n"
    }
   }
  },
  {
   "cell_type": "markdown",
   "source": [
    "### Application Data\n",
    "The application data set contains the data of credit card approvals applicants. The features are as follows:\n",
    "\n",
    "ID -> Client number\n",
    "CODE_GENDER -> Gender\n",
    "FLAG_OWN_CAR -> Is there a car\n",
    "FLAG_OWN_REALTY -> Is there a property\n",
    "CNT_CHILDREN -> Number of children\n",
    "AMT_INCOME_TOTAL -> Annual income\n",
    "NAME_INCOME_TYPE -> Income category\n",
    "NAME_EDUCATION_TYPE -> Education level\n",
    "NAME_FAMILY_STATUS -> Marital status\n",
    "NAME_HOUSING_TYPE -> Way of living\n",
    "DAYS_BIRTH -> Birthday\n",
    "DAYS_EMPLOYED -> Start date of employment (Count backwards from current day(0). If positive, it means the person currently unemployed)\n",
    "FLAG_MOBIL -> Is there a mobile phone\n",
    "FLAG_WORK_PHONE -> Is there a work phone\n",
    "FLAG_PHONE -> Is there a phone\n",
    "FLAG_EMAIL -> Is there an email\n",
    "OCCUPATION_TYPE -> Occupation\n",
    "CNT_FAM_MEMBERS -> Family size"
   ],
   "metadata": {
    "collapsed": false,
    "pycharm": {
     "name": "#%% md\n"
    }
   }
  },
  {
   "cell_type": "code",
   "execution_count": 5,
   "outputs": [
    {
     "data": {
      "text/plain": "ID                          0\nCODE_GENDER                 0\nFLAG_OWN_CAR                0\nFLAG_OWN_REALTY             0\nCNT_CHILDREN                0\nAMT_INCOME_TOTAL            0\nNAME_INCOME_TYPE            0\nNAME_EDUCATION_TYPE         0\nNAME_FAMILY_STATUS          0\nNAME_HOUSING_TYPE           0\nDAYS_BIRTH                  0\nDAYS_EMPLOYED               0\nFLAG_MOBIL                  0\nFLAG_WORK_PHONE             0\nFLAG_PHONE                  0\nFLAG_EMAIL                  0\nOCCUPATION_TYPE        134203\nCNT_FAM_MEMBERS             0\ndtype: int64"
     },
     "execution_count": 5,
     "metadata": {},
     "output_type": "execute_result"
    }
   ],
   "source": [
    "# check for nan values\n",
    "application_data.isnull().sum()"
   ],
   "metadata": {
    "collapsed": false,
    "pycharm": {
     "name": "#%%\n"
    }
   }
  },
  {
   "cell_type": "code",
   "execution_count": 6,
   "outputs": [
    {
     "data": {
      "text/plain": "ID                     0\nCODE_GENDER            0\nFLAG_OWN_CAR           0\nFLAG_OWN_REALTY        0\nCNT_CHILDREN           0\nAMT_INCOME_TOTAL       0\nNAME_INCOME_TYPE       0\nNAME_EDUCATION_TYPE    0\nNAME_FAMILY_STATUS     0\nNAME_HOUSING_TYPE      0\nDAYS_BIRTH             0\nDAYS_EMPLOYED          0\nFLAG_MOBIL             0\nFLAG_WORK_PHONE        0\nFLAG_PHONE             0\nFLAG_EMAIL             0\nCNT_FAM_MEMBERS        0\ndtype: int64"
     },
     "execution_count": 6,
     "metadata": {},
     "output_type": "execute_result"
    }
   ],
   "source": [
    "# For the occupation type almost 1/3 of the data is not available\n",
    "# Because it is not possible to restore the missing data we will delete the occupation feature from the data set\n",
    "application_data.drop('OCCUPATION_TYPE', axis=1, inplace=True)\n",
    "\n",
    "application_data.isnull().sum()"
   ],
   "metadata": {
    "collapsed": false,
    "pycharm": {
     "name": "#%%\n"
    }
   }
  },
  {
   "cell_type": "code",
   "execution_count": 7,
   "outputs": [
    {
     "data": {
      "text/plain": "                 ID   CNT_CHILDREN  AMT_INCOME_TOTAL     DAYS_BIRTH  \\\ncount  4.385570e+05  438557.000000      4.385570e+05  438557.000000   \nmean   6.022176e+06       0.427390      1.875243e+05  -15997.904649   \nstd    5.716370e+05       0.724882      1.100869e+05    4185.030007   \nmin    5.008804e+06       0.000000      2.610000e+04  -25201.000000   \n25%    5.609375e+06       0.000000      1.215000e+05  -19483.000000   \n50%    6.047745e+06       0.000000      1.607805e+05  -15630.000000   \n75%    6.456971e+06       1.000000      2.250000e+05  -12514.000000   \nmax    7.999952e+06      19.000000      6.750000e+06   -7489.000000   \n\n       DAYS_EMPLOYED  FLAG_MOBIL  FLAG_WORK_PHONE     FLAG_PHONE  \\\ncount  438557.000000    438557.0    438557.000000  438557.000000   \nmean    60563.675328         1.0         0.206133       0.287771   \nstd    138767.799647         0.0         0.404527       0.452724   \nmin    -17531.000000         1.0         0.000000       0.000000   \n25%     -3103.000000         1.0         0.000000       0.000000   \n50%     -1467.000000         1.0         0.000000       0.000000   \n75%      -371.000000         1.0         0.000000       1.000000   \nmax    365243.000000         1.0         1.000000       1.000000   \n\n          FLAG_EMAIL  CNT_FAM_MEMBERS  \ncount  438557.000000    438557.000000  \nmean        0.108207         2.194465  \nstd         0.310642         0.897207  \nmin         0.000000         1.000000  \n25%         0.000000         2.000000  \n50%         0.000000         2.000000  \n75%         0.000000         3.000000  \nmax         1.000000        20.000000  ",
      "text/html": "<div>\n<style scoped>\n    .dataframe tbody tr th:only-of-type {\n        vertical-align: middle;\n    }\n\n    .dataframe tbody tr th {\n        vertical-align: top;\n    }\n\n    .dataframe thead th {\n        text-align: right;\n    }\n</style>\n<table border=\"1\" class=\"dataframe\">\n  <thead>\n    <tr style=\"text-align: right;\">\n      <th></th>\n      <th>ID</th>\n      <th>CNT_CHILDREN</th>\n      <th>AMT_INCOME_TOTAL</th>\n      <th>DAYS_BIRTH</th>\n      <th>DAYS_EMPLOYED</th>\n      <th>FLAG_MOBIL</th>\n      <th>FLAG_WORK_PHONE</th>\n      <th>FLAG_PHONE</th>\n      <th>FLAG_EMAIL</th>\n      <th>CNT_FAM_MEMBERS</th>\n    </tr>\n  </thead>\n  <tbody>\n    <tr>\n      <th>count</th>\n      <td>4.385570e+05</td>\n      <td>438557.000000</td>\n      <td>4.385570e+05</td>\n      <td>438557.000000</td>\n      <td>438557.000000</td>\n      <td>438557.0</td>\n      <td>438557.000000</td>\n      <td>438557.000000</td>\n      <td>438557.000000</td>\n      <td>438557.000000</td>\n    </tr>\n    <tr>\n      <th>mean</th>\n      <td>6.022176e+06</td>\n      <td>0.427390</td>\n      <td>1.875243e+05</td>\n      <td>-15997.904649</td>\n      <td>60563.675328</td>\n      <td>1.0</td>\n      <td>0.206133</td>\n      <td>0.287771</td>\n      <td>0.108207</td>\n      <td>2.194465</td>\n    </tr>\n    <tr>\n      <th>std</th>\n      <td>5.716370e+05</td>\n      <td>0.724882</td>\n      <td>1.100869e+05</td>\n      <td>4185.030007</td>\n      <td>138767.799647</td>\n      <td>0.0</td>\n      <td>0.404527</td>\n      <td>0.452724</td>\n      <td>0.310642</td>\n      <td>0.897207</td>\n    </tr>\n    <tr>\n      <th>min</th>\n      <td>5.008804e+06</td>\n      <td>0.000000</td>\n      <td>2.610000e+04</td>\n      <td>-25201.000000</td>\n      <td>-17531.000000</td>\n      <td>1.0</td>\n      <td>0.000000</td>\n      <td>0.000000</td>\n      <td>0.000000</td>\n      <td>1.000000</td>\n    </tr>\n    <tr>\n      <th>25%</th>\n      <td>5.609375e+06</td>\n      <td>0.000000</td>\n      <td>1.215000e+05</td>\n      <td>-19483.000000</td>\n      <td>-3103.000000</td>\n      <td>1.0</td>\n      <td>0.000000</td>\n      <td>0.000000</td>\n      <td>0.000000</td>\n      <td>2.000000</td>\n    </tr>\n    <tr>\n      <th>50%</th>\n      <td>6.047745e+06</td>\n      <td>0.000000</td>\n      <td>1.607805e+05</td>\n      <td>-15630.000000</td>\n      <td>-1467.000000</td>\n      <td>1.0</td>\n      <td>0.000000</td>\n      <td>0.000000</td>\n      <td>0.000000</td>\n      <td>2.000000</td>\n    </tr>\n    <tr>\n      <th>75%</th>\n      <td>6.456971e+06</td>\n      <td>1.000000</td>\n      <td>2.250000e+05</td>\n      <td>-12514.000000</td>\n      <td>-371.000000</td>\n      <td>1.0</td>\n      <td>0.000000</td>\n      <td>1.000000</td>\n      <td>0.000000</td>\n      <td>3.000000</td>\n    </tr>\n    <tr>\n      <th>max</th>\n      <td>7.999952e+06</td>\n      <td>19.000000</td>\n      <td>6.750000e+06</td>\n      <td>-7489.000000</td>\n      <td>365243.000000</td>\n      <td>1.0</td>\n      <td>1.000000</td>\n      <td>1.000000</td>\n      <td>1.000000</td>\n      <td>20.000000</td>\n    </tr>\n  </tbody>\n</table>\n</div>"
     },
     "execution_count": 7,
     "metadata": {},
     "output_type": "execute_result"
    }
   ],
   "source": [
    "# see important stats for all numeric values\n",
    "application_data.describe()"
   ],
   "metadata": {
    "collapsed": false,
    "pycharm": {
     "name": "#%%\n"
    }
   }
  },
  {
   "cell_type": "code",
   "execution_count": 8,
   "outputs": [
    {
     "name": "stderr",
     "output_type": "stream",
     "text": [
      "No handles with labels found to put in legend.\n",
      "C:\\Users\\mmmue\\AppData\\Local\\Temp/ipykernel_25884/2093939645.py:23: SettingWithCopyWarning: \n",
      "A value is trying to be set on a copy of a slice from a DataFrame\n",
      "\n",
      "See the caveats in the documentation: https://pandas.pydata.org/pandas-docs/stable/user_guide/indexing.html#returning-a-view-versus-a-copy\n",
      "  application_data['DAYS_EMPLOYED'][mask] = -days_of_employment\n"
     ]
    },
    {
     "data": {
      "text/plain": "<Figure size 432x288 with 1 Axes>",
      "image/png": "[encoded data removed]"
     },
     "metadata": {
      "needs_background": "light"
     },
     "output_type": "display_data"
    }
   ],
   "source": [
    "# We see that the DAYS_EMPLOYED Feature has some unrealistic max value (968 years). First we will investigate this issue by plotting the data.\n",
    "plt.hist(application_data.DAYS_EMPLOYED, bins=100)\n",
    "plt.title('Days of Employment from 0 to negative')\n",
    "plt.legend()\n",
    "plt.xlabel('Days spent in employment')\n",
    "plt.ylabel('Number of people')\n",
    "\n",
    "# by looking at the data set it's noticeable that the 365.243 Days employment belong to pensioners\n",
    "# my hypothesis is that this value is specifically given to pensioners to mark their end of working life\n",
    "\n",
    "# see the stats for pensioners\n",
    "pensioner = application_data[['NAME_INCOME_TYPE', 'DAYS_EMPLOYED']]\n",
    "pensioner = pensioner[pensioner['NAME_INCOME_TYPE'] == 'Pensioner']\n",
    "pensioner.describe()\n",
    "\n",
    "# since a pretty high day count is wired towards unemployment its not a best practice to assign this value to pensioners. Instead we will assign them the days count of someone\n",
    "# that worked for 40 years for 365 * 5/7 days\n",
    "\n",
    "# change days of employment value for pensioners\n",
    "days_of_employment = 365 * (5 / 7) * 40\n",
    "\n",
    "mask = (application_data.NAME_INCOME_TYPE == 'Pensioner')\n",
    "application_data['DAYS_EMPLOYED'][mask] = -days_of_employment"
   ],
   "metadata": {
    "collapsed": false,
    "pycharm": {
     "name": "#%%\n"
    }
   }
  },
  {
   "cell_type": "code",
   "execution_count": 9,
   "outputs": [
    {
     "data": {
      "text/plain": "                 ID   CNT_CHILDREN  AMT_INCOME_TOTAL     DAYS_BIRTH  \\\ncount  4.385570e+05  438557.000000      4.385570e+05  438557.000000   \nmean   6.022176e+06       0.427390      1.875243e+05  -15997.904649   \nstd    5.716370e+05       0.724882      1.100869e+05    4185.030007   \nmin    5.008804e+06       0.000000      2.610000e+04  -25201.000000   \n25%    5.609375e+06       0.000000      1.215000e+05  -19483.000000   \n50%    6.047745e+06       0.000000      1.607805e+05  -15630.000000   \n75%    6.456971e+06       1.000000      2.250000e+05  -12514.000000   \nmax    7.999952e+06      19.000000      6.750000e+06   -7489.000000   \n\n       DAYS_EMPLOYED  FLAG_MOBIL  FLAG_WORK_PHONE     FLAG_PHONE  \\\ncount  438557.000000    438557.0    438557.000000  438557.000000   \nmean    -3966.638279         1.0         0.206133       0.287771   \nstd      3667.346658         0.0         0.404527       0.452724   \nmin    -17531.000000         1.0         0.000000       0.000000   \n25%     -5871.000000         1.0         0.000000       0.000000   \n50%     -2514.000000         1.0         0.000000       0.000000   \n75%     -1094.000000         1.0         0.000000       1.000000   \nmax       -12.000000         1.0         1.000000       1.000000   \n\n          FLAG_EMAIL  CNT_FAM_MEMBERS  \ncount  438557.000000    438557.000000  \nmean        0.108207         2.194465  \nstd         0.310642         0.897207  \nmin         0.000000         1.000000  \n25%         0.000000         2.000000  \n50%         0.000000         2.000000  \n75%         0.000000         3.000000  \nmax         1.000000        20.000000  ",
      "text/html": "<div>\n<style scoped>\n    .dataframe tbody tr th:only-of-type {\n        vertical-align: middle;\n    }\n\n    .dataframe tbody tr th {\n        vertical-align: top;\n    }\n\n    .dataframe thead th {\n        text-align: right;\n    }\n</style>\n<table border=\"1\" class=\"dataframe\">\n  <thead>\n    <tr style=\"text-align: right;\">\n      <th></th>\n      <th>ID</th>\n      <th>CNT_CHILDREN</th>\n      <th>AMT_INCOME_TOTAL</th>\n      <th>DAYS_BIRTH</th>\n      <th>DAYS_EMPLOYED</th>\n      <th>FLAG_MOBIL</th>\n      <th>FLAG_WORK_PHONE</th>\n      <th>FLAG_PHONE</th>\n      <th>FLAG_EMAIL</th>\n      <th>CNT_FAM_MEMBERS</th>\n    </tr>\n  </thead>\n  <tbody>\n    <tr>\n      <th>count</th>\n      <td>4.385570e+05</td>\n      <td>438557.000000</td>\n      <td>4.385570e+05</td>\n      <td>438557.000000</td>\n      <td>438557.000000</td>\n      <td>438557.0</td>\n      <td>438557.000000</td>\n      <td>438557.000000</td>\n      <td>438557.000000</td>\n      <td>438557.000000</td>\n    </tr>\n    <tr>\n      <th>mean</th>\n      <td>6.022176e+06</td>\n      <td>0.427390</td>\n      <td>1.875243e+05</td>\n      <td>-15997.904649</td>\n      <td>-3966.638279</td>\n      <td>1.0</td>\n      <td>0.206133</td>\n      <td>0.287771</td>\n      <td>0.108207</td>\n      <td>2.194465</td>\n    </tr>\n    <tr>\n      <th>std</th>\n      <td>5.716370e+05</td>\n      <td>0.724882</td>\n      <td>1.100869e+05</td>\n      <td>4185.030007</td>\n      <td>3667.346658</td>\n      <td>0.0</td>\n      <td>0.404527</td>\n      <td>0.452724</td>\n      <td>0.310642</td>\n      <td>0.897207</td>\n    </tr>\n    <tr>\n      <th>min</th>\n      <td>5.008804e+06</td>\n      <td>0.000000</td>\n      <td>2.610000e+04</td>\n      <td>-25201.000000</td>\n      <td>-17531.000000</td>\n      <td>1.0</td>\n      <td>0.000000</td>\n      <td>0.000000</td>\n      <td>0.000000</td>\n      <td>1.000000</td>\n    </tr>\n    <tr>\n      <th>25%</th>\n      <td>5.609375e+06</td>\n      <td>0.000000</td>\n      <td>1.215000e+05</td>\n      <td>-19483.000000</td>\n      <td>-5871.000000</td>\n      <td>1.0</td>\n      <td>0.000000</td>\n      <td>0.000000</td>\n      <td>0.000000</td>\n      <td>2.000000</td>\n    </tr>\n    <tr>\n      <th>50%</th>\n      <td>6.047745e+06</td>\n      <td>0.000000</td>\n      <td>1.607805e+05</td>\n      <td>-15630.000000</td>\n      <td>-2514.000000</td>\n      <td>1.0</td>\n      <td>0.000000</td>\n      <td>0.000000</td>\n      <td>0.000000</td>\n      <td>2.000000</td>\n    </tr>\n    <tr>\n      <th>75%</th>\n      <td>6.456971e+06</td>\n      <td>1.000000</td>\n      <td>2.250000e+05</td>\n      <td>-12514.000000</td>\n      <td>-1094.000000</td>\n      <td>1.0</td>\n      <td>0.000000</td>\n      <td>1.000000</td>\n      <td>0.000000</td>\n      <td>3.000000</td>\n    </tr>\n    <tr>\n      <th>max</th>\n      <td>7.999952e+06</td>\n      <td>19.000000</td>\n      <td>6.750000e+06</td>\n      <td>-7489.000000</td>\n      <td>-12.000000</td>\n      <td>1.0</td>\n      <td>1.000000</td>\n      <td>1.000000</td>\n      <td>1.000000</td>\n      <td>20.000000</td>\n    </tr>\n  </tbody>\n</table>\n</div>"
     },
     "execution_count": 9,
     "metadata": {},
     "output_type": "execute_result"
    }
   ],
   "source": [
    "application_data.describe()"
   ],
   "metadata": {
    "collapsed": false,
    "pycharm": {
     "name": "#%%\n"
    }
   }
  },
  {
   "cell_type": "code",
   "execution_count": 10,
   "outputs": [
    {
     "name": "stderr",
     "output_type": "stream",
     "text": [
      "C:\\Users\\mmmue\\AppData\\Local\\Temp/ipykernel_25884/1759662908.py:1: FutureWarning: Dropping of nuisance columns in DataFrame reductions (with 'numeric_only=None') is deprecated; in a future version this will raise TypeError.  Select only valid columns before calling the reduction.\n",
      "  application_data.skew()\n",
      "C:\\Users\\mmmue\\AppData\\Local\\Temp/ipykernel_25884/1759662908.py:2: FutureWarning: Dropping of nuisance columns in DataFrame reductions (with 'numeric_only=None') is deprecated; in a future version this will raise TypeError.  Select only valid columns before calling the reduction.\n",
      "  application_data.kurtosis()\n"
     ]
    },
    {
     "data": {
      "text/plain": "ID                   -0.085985\nCNT_CHILDREN          5.084886\nAMT_INCOME_TOTAL    324.550679\nDAYS_BIRTH           -1.048479\nDAYS_EMPLOYED        -0.624300\nFLAG_MOBIL            0.000000\nFLAG_WORK_PHONE       0.110912\nFLAG_PHONE           -1.120971\nFLAG_EMAIL            4.362934\nCNT_FAM_MEMBERS       1.897488\ndtype: float64"
     },
     "execution_count": 10,
     "metadata": {},
     "output_type": "execute_result"
    }
   ],
   "source": [
    "application_data.skew()\n",
    "application_data.kurtosis()"
   ],
   "metadata": {
    "collapsed": false,
    "pycharm": {
     "name": "#%%\n"
    }
   }
  },
  {
   "cell_type": "code",
   "execution_count": 11,
   "outputs": [
    {
     "data": {
      "text/plain": "(array([5.36100e+04, 1.65648e+05, 1.26728e+05, 4.58980e+04, 2.70360e+04,\n        8.16800e+03, 6.06100e+03, 1.98200e+03, 8.43000e+02, 1.21200e+03,\n        2.77000e+02, 2.45000e+02, 3.80000e+02, 2.30000e+01, 2.90000e+01,\n        5.00000e+01, 1.35000e+02, 2.60000e+01, 9.00000e+00, 6.60000e+01,\n        0.00000e+00, 0.00000e+00, 0.00000e+00, 2.90000e+01, 0.00000e+00,\n        0.00000e+00, 1.60000e+01, 1.40000e+01, 0.00000e+00, 2.50000e+01,\n        0.00000e+00, 0.00000e+00, 7.00000e+00, 0.00000e+00, 0.00000e+00,\n        0.00000e+00, 0.00000e+00, 0.00000e+00, 0.00000e+00, 0.00000e+00,\n        0.00000e+00, 0.00000e+00, 0.00000e+00, 0.00000e+00, 0.00000e+00,\n        0.00000e+00, 5.00000e+00, 0.00000e+00, 0.00000e+00, 6.00000e+00,\n        0.00000e+00, 0.00000e+00, 0.00000e+00, 0.00000e+00, 0.00000e+00,\n        0.00000e+00, 6.00000e+00, 0.00000e+00, 6.00000e+00, 0.00000e+00,\n        0.00000e+00, 0.00000e+00, 0.00000e+00, 0.00000e+00, 0.00000e+00,\n        0.00000e+00, 1.00000e+01, 0.00000e+00, 0.00000e+00, 0.00000e+00,\n        0.00000e+00, 0.00000e+00, 0.00000e+00, 0.00000e+00, 0.00000e+00,\n        0.00000e+00, 0.00000e+00, 0.00000e+00, 0.00000e+00, 0.00000e+00,\n        0.00000e+00, 0.00000e+00, 0.00000e+00, 0.00000e+00, 0.00000e+00,\n        0.00000e+00, 0.00000e+00, 0.00000e+00, 0.00000e+00, 0.00000e+00,\n        0.00000e+00, 0.00000e+00, 0.00000e+00, 0.00000e+00, 0.00000e+00,\n        0.00000e+00, 0.00000e+00, 0.00000e+00, 0.00000e+00, 7.00000e+00]),\n array([  26100.,   93339.,  160578.,  227817.,  295056.,  362295.,\n         429534.,  496773.,  564012.,  631251.,  698490.,  765729.,\n         832968.,  900207.,  967446., 1034685., 1101924., 1169163.,\n        1236402., 1303641., 1370880., 1438119., 1505358., 1572597.,\n        1639836., 1707075., 1774314., 1841553., 1908792., 1976031.,\n        2043270., 2110509., 2177748., 2244987., 2312226., 2379465.,\n        2446704., 2513943., 2581182., 2648421., 2715660., 2782899.,\n        2850138., 2917377., 2984616., 3051855., 3119094., 3186333.,\n        3253572., 3320811., 3388050., 3455289., 3522528., 3589767.,\n        3657006., 3724245., 3791484., 3858723., 3925962., 3993201.,\n        4060440., 4127679., 4194918., 4262157., 4329396., 4396635.,\n        4463874., 4531113., 4598352., 4665591., 4732830., 4800069.,\n        4867308., 4934547., 5001786., 5069025., 5136264., 5203503.,\n        5270742., 5337981., 5405220., 5472459., 5539698., 5606937.,\n        5674176., 5741415., 5808654., 5875893., 5943132., 6010371.,\n        6077610., 6144849., 6212088., 6279327., 6346566., 6413805.,\n        6481044., 6548283., 6615522., 6682761., 6750000.]),\n <BarContainer object of 100 artists>)"
     },
     "execution_count": 11,
     "metadata": {},
     "output_type": "execute_result"
    },
    {
     "data": {
      "text/plain": "<Figure size 432x288 with 1 Axes>",
      "image/png": "[encoded data removed]"
     },
     "metadata": {
      "needs_background": "light"
     },
     "output_type": "display_data"
    }
   ],
   "source": [
    "plt.hist(application_data.AMT_INCOME_TOTAL, bins=100)"
   ],
   "metadata": {
    "collapsed": false,
    "pycharm": {
     "name": "#%%\n"
    }
   }
  },
  {
   "cell_type": "markdown",
   "source": [
    "### Visualize categorical data"
   ],
   "metadata": {
    "collapsed": false,
    "pycharm": {
     "name": "#%% md\n"
    }
   }
  },
  {
   "cell_type": "code",
   "execution_count": 12,
   "outputs": [
    {
     "data": {
      "text/plain": "Text(0.5, 1.0, 'Number of Applicants by Gender')"
     },
     "execution_count": 12,
     "metadata": {},
     "output_type": "execute_result"
    },
    {
     "data": {
      "text/plain": "<Figure size 432x288 with 1 Axes>",
      "image/png": "[encoded data removed]"
     },
     "metadata": {
      "needs_background": "light"
     },
     "output_type": "display_data"
    }
   ],
   "source": [
    "count_men = application_data[application_data.CODE_GENDER == 'M']['CODE_GENDER'].count()\n",
    "count_women = application_data[application_data.CODE_GENDER == 'F']['CODE_GENDER'].count()\n",
    "\n",
    "plt.bar(['Male', 'Female'], [count_men, count_women], color=('green', 'blue'))\n",
    "plt.title('Number of Applicants by Gender')"
   ],
   "metadata": {
    "collapsed": false,
    "pycharm": {
     "name": "#%%\n"
    }
   }
  },
  {
   "cell_type": "code",
   "execution_count": 13,
   "outputs": [
    {
     "data": {
      "text/plain": "<Figure size 432x288 with 1 Axes>",
      "image/png": "[encoded data removed]"
     },
     "metadata": {
      "needs_background": "light"
     },
     "output_type": "display_data"
    },
    {
     "data": {
      "text/plain": "<Figure size 432x288 with 1 Axes>",
      "image/png": "[encoded data removed]"
     },
     "metadata": {
      "needs_background": "light"
     },
     "output_type": "display_data"
    }
   ],
   "source": [
    "categories = ['FLAG_OWN_CAR', 'FLAG_OWN_REALTY']\n",
    "labels = ['Applicants owning a car', 'Applicants owning a house']\n",
    "\n",
    "for feature, label in zip(categories, labels):\n",
    "\n",
    "    # calculate the occurrence of possible outputs\n",
    "    count_yes = application_data[application_data[feature] == 'Y'][feature].count()\n",
    "    count_no = application_data[application_data[feature] == 'N'][feature].count()\n",
    "\n",
    "    # calculate the percentage of owners\n",
    "    perc_yes = count_yes / (count_yes + count_no)\n",
    "\n",
    "    # plot as bar chart\n",
    "    plt.bar(['Yes', 'No'], [perc_yes, 1 - perc_yes], color=('yellow', 'red'))\n",
    "    plt.title(label)\n",
    "    plt.ylabel('Percentage of Applicants')\n",
    "    plt.show()"
   ],
   "metadata": {
    "collapsed": false,
    "pycharm": {
     "name": "#%%\n"
    }
   }
  },
  {
   "cell_type": "markdown",
   "source": [
    "### Credit Data\n",
    "The Credit Data set stores credit account data by month starting from the current month as 0.\n",
    "\n",
    "The data set contains three features:\n",
    "ID --> User ID\n",
    "MONTHS_BALANCE --> Month of the balance data\n",
    "STATUS --> Number of months open credits are overdue"
   ],
   "metadata": {
    "collapsed": false,
    "pycharm": {
     "name": "#%% md\n"
    }
   }
  },
  {
   "cell_type": "code",
   "execution_count": 14,
   "outputs": [
    {
     "data": {
      "text/plain": "              ID  MONTHS_BALANCE STATUS\n0        5001711               0      X\n1        5001711              -1      0\n2        5001711              -2      0\n3        5001711              -3      0\n4        5001712               0      C\n...          ...             ...    ...\n1048570  5150487             -25      C\n1048571  5150487             -26      C\n1048572  5150487             -27      C\n1048573  5150487             -28      C\n1048574  5150487             -29      C\n\n[1048575 rows x 3 columns]",
      "text/html": "<div>\n<style scoped>\n    .dataframe tbody tr th:only-of-type {\n        vertical-align: middle;\n    }\n\n    .dataframe tbody tr th {\n        vertical-align: top;\n    }\n\n    .dataframe thead th {\n        text-align: right;\n    }\n</style>\n<table border=\"1\" class=\"dataframe\">\n  <thead>\n    <tr style=\"text-align: right;\">\n      <th></th>\n      <th>ID</th>\n      <th>MONTHS_BALANCE</th>\n      <th>STATUS</th>\n    </tr>\n  </thead>\n  <tbody>\n    <tr>\n      <th>0</th>\n      <td>5001711</td>\n      <td>0</td>\n      <td>X</td>\n    </tr>\n    <tr>\n      <th>1</th>\n      <td>5001711</td>\n      <td>-1</td>\n      <td>0</td>\n    </tr>\n    <tr>\n      <th>2</th>\n      <td>5001711</td>\n      <td>-2</td>\n      <td>0</td>\n    </tr>\n    <tr>\n      <th>3</th>\n      <td>5001711</td>\n      <td>-3</td>\n      <td>0</td>\n    </tr>\n    <tr>\n      <th>4</th>\n      <td>5001712</td>\n      <td>0</td>\n      <td>C</td>\n    </tr>\n    <tr>\n      <th>...</th>\n      <td>...</td>\n      <td>...</td>\n      <td>...</td>\n    </tr>\n    <tr>\n      <th>1048570</th>\n      <td>5150487</td>\n      <td>-25</td>\n      <td>C</td>\n    </tr>\n    <tr>\n      <th>1048571</th>\n      <td>5150487</td>\n      <td>-26</td>\n      <td>C</td>\n    </tr>\n    <tr>\n      <th>1048572</th>\n      <td>5150487</td>\n      <td>-27</td>\n      <td>C</td>\n    </tr>\n    <tr>\n      <th>1048573</th>\n      <td>5150487</td>\n      <td>-28</td>\n      <td>C</td>\n    </tr>\n    <tr>\n      <th>1048574</th>\n      <td>5150487</td>\n      <td>-29</td>\n      <td>C</td>\n    </tr>\n  </tbody>\n</table>\n<p>1048575 rows × 3 columns</p>\n</div>"
     },
     "execution_count": 14,
     "metadata": {},
     "output_type": "execute_result"
    }
   ],
   "source": [
    "credit_data"
   ],
   "metadata": {
    "collapsed": false,
    "pycharm": {
     "name": "#%%\n"
    }
   }
  },
  {
   "cell_type": "code",
   "execution_count": 15,
   "outputs": [],
   "source": [
    "# group data by id and count the number of unique status values\n",
    "credit_data = credit_data.value_counts(subset=['ID', 'STATUS']).unstack(fill_value=0)"
   ],
   "metadata": {
    "collapsed": false,
    "pycharm": {
     "name": "#%%\n"
    }
   }
  },
  {
   "cell_type": "code",
   "execution_count": 16,
   "outputs": [
    {
     "data": {
      "text/plain": "STATUS    0  1  2  3  4  5   C   X  positive  negative  approved\nID                                                              \n5001711   3  0  0  0  0  0   0   1         4         0       1.0\n5001712  10  0  0  0  0  0   9   0        19         0       1.0\n5001713   0  0  0  0  0  0   0  22        22         0       1.0\n5001714   0  0  0  0  0  0   0  15        15         0       1.0\n5001715   0  0  0  0  0  0   0  60        60         0       1.0\n...      .. .. .. .. .. ..  ..  ..       ...       ...       ...\n5150482  12  0  0  0  0  0   6   0        18         0       1.0\n5150483   0  0  0  0  0  0   0  18        18         0       1.0\n5150484  12  0  0  0  0  0   1   0        13         0       1.0\n5150485   2  0  0  0  0  0   0   0         2         0       1.0\n5150487   0  0  0  0  0  0  30   0        30         0       1.0\n\n[45985 rows x 11 columns]",
      "text/html": "<div>\n<style scoped>\n    .dataframe tbody tr th:only-of-type {\n        vertical-align: middle;\n    }\n\n    .dataframe tbody tr th {\n        vertical-align: top;\n    }\n\n    .dataframe thead th {\n        text-align: right;\n    }\n</style>\n<table border=\"1\" class=\"dataframe\">\n  <thead>\n    <tr style=\"text-align: right;\">\n      <th>STATUS</th>\n      <th>0</th>\n      <th>1</th>\n      <th>2</th>\n      <th>3</th>\n      <th>4</th>\n      <th>5</th>\n      <th>C</th>\n      <th>X</th>\n      <th>positive</th>\n      <th>negative</th>\n      <th>approved</th>\n    </tr>\n    <tr>\n      <th>ID</th>\n      <th></th>\n      <th></th>\n      <th></th>\n      <th></th>\n      <th></th>\n      <th></th>\n      <th></th>\n      <th></th>\n      <th></th>\n      <th></th>\n      <th></th>\n    </tr>\n  </thead>\n  <tbody>\n    <tr>\n      <th>5001711</th>\n      <td>3</td>\n      <td>0</td>\n      <td>0</td>\n      <td>0</td>\n      <td>0</td>\n      <td>0</td>\n      <td>0</td>\n      <td>1</td>\n      <td>4</td>\n      <td>0</td>\n      <td>1.0</td>\n    </tr>\n    <tr>\n      <th>5001712</th>\n      <td>10</td>\n      <td>0</td>\n      <td>0</td>\n      <td>0</td>\n      <td>0</td>\n      <td>0</td>\n      <td>9</td>\n      <td>0</td>\n      <td>19</td>\n      <td>0</td>\n      <td>1.0</td>\n    </tr>\n    <tr>\n      <th>5001713</th>\n      <td>0</td>\n      <td>0</td>\n      <td>0</td>\n      <td>0</td>\n      <td>0</td>\n      <td>0</td>\n      <td>0</td>\n      <td>22</td>\n      <td>22</td>\n      <td>0</td>\n      <td>1.0</td>\n    </tr>\n    <tr>\n      <th>5001714</th>\n      <td>0</td>\n      <td>0</td>\n      <td>0</td>\n      <td>0</td>\n      <td>0</td>\n      <td>0</td>\n      <td>0</td>\n      <td>15</td>\n      <td>15</td>\n      <td>0</td>\n      <td>1.0</td>\n    </tr>\n    <tr>\n      <th>5001715</th>\n      <td>0</td>\n      <td>0</td>\n      <td>0</td>\n      <td>0</td>\n      <td>0</td>\n      <td>0</td>\n      <td>0</td>\n      <td>60</td>\n      <td>60</td>\n      <td>0</td>\n      <td>1.0</td>\n    </tr>\n    <tr>\n      <th>...</th>\n      <td>...</td>\n      <td>...</td>\n      <td>...</td>\n      <td>...</td>\n      <td>...</td>\n      <td>...</td>\n      <td>...</td>\n      <td>...</td>\n      <td>...</td>\n      <td>...</td>\n      <td>...</td>\n    </tr>\n    <tr>\n      <th>5150482</th>\n      <td>12</td>\n      <td>0</td>\n      <td>0</td>\n      <td>0</td>\n      <td>0</td>\n      <td>0</td>\n      <td>6</td>\n      <td>0</td>\n      <td>18</td>\n      <td>0</td>\n      <td>1.0</td>\n    </tr>\n    <tr>\n      <th>5150483</th>\n      <td>0</td>\n      <td>0</td>\n      <td>0</td>\n      <td>0</td>\n      <td>0</td>\n      <td>0</td>\n      <td>0</td>\n      <td>18</td>\n      <td>18</td>\n      <td>0</td>\n      <td>1.0</td>\n    </tr>\n    <tr>\n      <th>5150484</th>\n      <td>12</td>\n      <td>0</td>\n      <td>0</td>\n      <td>0</td>\n      <td>0</td>\n      <td>0</td>\n      <td>1</td>\n      <td>0</td>\n      <td>13</td>\n      <td>0</td>\n      <td>1.0</td>\n    </tr>\n    <tr>\n      <th>5150485</th>\n      <td>2</td>\n      <td>0</td>\n      <td>0</td>\n      <td>0</td>\n      <td>0</td>\n      <td>0</td>\n      <td>0</td>\n      <td>0</td>\n      <td>2</td>\n      <td>0</td>\n      <td>1.0</td>\n    </tr>\n    <tr>\n      <th>5150487</th>\n      <td>0</td>\n      <td>0</td>\n      <td>0</td>\n      <td>0</td>\n      <td>0</td>\n      <td>0</td>\n      <td>30</td>\n      <td>0</td>\n      <td>30</td>\n      <td>0</td>\n      <td>1.0</td>\n    </tr>\n  </tbody>\n</table>\n<p>45985 rows × 11 columns</p>\n</div>"
     },
     "execution_count": 16,
     "metadata": {},
     "output_type": "execute_result"
    }
   ],
   "source": [
    "# to be approved for a credit loan the applicant needs to have paid back the majority of her/his loans or be overdue max 30 days\n",
    "credit_data['positive'] = credit_data['0'] + credit_data['C'] + credit_data['X']\n",
    "credit_data['negative'] = credit_data['1'] + credit_data['2'] + credit_data['3'] + credit_data['4'] + credit_data['5']\n",
    "\n",
    "credit_data.loc[(credit_data['positive'] > credit_data['negative']), 'approved'] = 1\n",
    "credit_data.loc[(credit_data['positive'] <= credit_data['negative']), 'approved'] = 0\n",
    "credit_data"
   ],
   "metadata": {
    "collapsed": false,
    "pycharm": {
     "name": "#%%\n"
    }
   }
  },
  {
   "cell_type": "code",
   "execution_count": 19,
   "outputs": [
    {
     "data": {
      "text/plain": "0"
     },
     "execution_count": 19,
     "metadata": {},
     "output_type": "execute_result"
    }
   ],
   "source": [
    "# check if the approved feature has no nan values or other unwanted\n",
    "np.unique(credit_data['approved'])\n",
    "\n",
    "credit_data['approved'].isnull().sum()"
   ],
   "metadata": {
    "collapsed": false,
    "pycharm": {
     "name": "#%%\n"
    }
   }
  },
  {
   "cell_type": "code",
   "execution_count": 24,
   "outputs": [
    {
     "data": {
      "text/plain": "185"
     },
     "execution_count": 24,
     "metadata": {},
     "output_type": "execute_result"
    }
   ],
   "source": [
    "# check how many application were not approved\n",
    "credit_data['approved'].loc[credit_data['approved'] == 0].count()"
   ],
   "metadata": {
    "collapsed": false,
    "pycharm": {
     "name": "#%%\n"
    }
   }
  },
  {
   "cell_type": "code",
   "execution_count": 76,
   "outputs": [
    {
     "data": {
      "text/plain": "402100"
     },
     "execution_count": 76,
     "metadata": {},
     "output_type": "execute_result"
    }
   ],
   "source": [
    "# join approval feature of credit_data on application_data\n",
    "credit_application_data = application_data.join(credit_data['approved'], on='ID')\n",
    "\n",
    "# check if every user got an approved status\n",
    "credit_application_data['approved'].isnull().sum()"
   ],
   "metadata": {
    "collapsed": false,
    "pycharm": {
     "name": "#%%\n"
    }
   }
  },
  {
   "cell_type": "code",
   "execution_count": 77,
   "outputs": [],
   "source": [
    "# drop all users without any credit data\n",
    "credit_application_data.dropna(inplace=True)"
   ],
   "metadata": {
    "collapsed": false,
    "pycharm": {
     "name": "#%%\n"
    }
   }
  },
  {
   "cell_type": "code",
   "execution_count": 79,
   "outputs": [],
   "source": [
    "# select all categorical features\n",
    "categorical = credit_application_data.select_dtypes(['object']).columns\n",
    "credit_application_data[categorical] = credit_application_data[categorical].astype('category')"
   ],
   "metadata": {
    "collapsed": false,
    "pycharm": {
     "name": "#%%\n"
    }
   }
  },
  {
   "cell_type": "code",
   "execution_count": 84,
   "outputs": [
    {
     "name": "stdout",
     "output_type": "stream",
     "text": [
      "{'CODE_GENDER': {0: 'F', 1: 'M'}, 'FLAG_OWN_CAR': {0: 'N', 1: 'Y'}, 'FLAG_OWN_REALTY': {0: 'N', 1: 'Y'}, 'NAME_INCOME_TYPE': {0: 'Commercial associate', 1: 'Pensioner', 2: 'State servant', 3: 'Student', 4: 'Working'}, 'NAME_EDUCATION_TYPE': {0: 'Academic degree', 1: 'Higher education', 2: 'Incomplete higher', 3: 'Lower secondary', 4: 'Secondary / secondary special'}, 'NAME_FAMILY_STATUS': {0: 'Civil marriage', 1: 'Married', 2: 'Separated', 3: 'Single / not married', 4: 'Widow'}, 'NAME_HOUSING_TYPE': {0: 'Co-op apartment', 1: 'House / apartment', 2: 'Municipal apartment', 3: 'Office apartment', 4: 'Rented apartment', 5: 'With parents'}}\n"
     ]
    }
   ],
   "source": [
    "cat_map = dict()\n",
    "\n",
    "for category in categorical:\n",
    "    cat_map[category] = dict(enumerate(credit_application_data[category].cat.categories))\n",
    "\n",
    "print(cat_map)\n",
    "\n",
    "with open('cat_num_mapping.json', 'w') as fp:\n",
    "    json.dump(cat_map, fp, indent=4)"
   ],
   "metadata": {
    "collapsed": false,
    "pycharm": {
     "name": "#%%\n"
    }
   }
  },
  {
   "cell_type": "code",
   "execution_count": 85,
   "outputs": [
    {
     "data": {
      "text/plain": "             ID  CODE_GENDER  FLAG_OWN_CAR  FLAG_OWN_REALTY  CNT_CHILDREN  \\\n0       5008804            1             1                1             0   \n1       5008805            1             1                1             0   \n2       5008806            1             1                1             0   \n3       5008808            0             0                1             0   \n4       5008809            0             0                1             0   \n...         ...          ...           ...              ...           ...   \n434808  5149828            1             1                1             0   \n434809  5149834            0             0                1             0   \n434810  5149838            0             0                1             0   \n434811  5150049            0             0                1             0   \n434812  5150337            1             0                1             0   \n\n        AMT_INCOME_TOTAL  NAME_INCOME_TYPE  NAME_EDUCATION_TYPE  \\\n0               427500.0                 4                    1   \n1               427500.0                 4                    1   \n2               112500.0                 4                    4   \n3               270000.0                 0                    4   \n4               270000.0                 0                    4   \n...                  ...               ...                  ...   \n434808          315000.0                 4                    4   \n434809          157500.0                 0                    1   \n434810          157500.0                 1                    1   \n434811          283500.0                 4                    4   \n434812          112500.0                 4                    4   \n\n        NAME_FAMILY_STATUS  NAME_HOUSING_TYPE  DAYS_BIRTH  DAYS_EMPLOYED  \\\n0                        0                  4      -12005   -4542.000000   \n1                        0                  4      -12005   -4542.000000   \n2                        1                  1      -21474   -1134.000000   \n3                        3                  1      -19110   -3051.000000   \n4                        3                  1      -19110   -3051.000000   \n...                    ...                ...         ...            ...   \n434808                   1                  1      -17348   -2420.000000   \n434809                   1                  1      -12387   -1325.000000   \n434810                   1                  1      -12387  -10428.571429   \n434811                   1                  1      -17958    -655.000000   \n434812                   3                  4       -9188   -1193.000000   \n\n        FLAG_MOBIL  FLAG_WORK_PHONE  FLAG_PHONE  FLAG_EMAIL  CNT_FAM_MEMBERS  \\\n0                1                1           0           0              2.0   \n1                1                1           0           0              2.0   \n2                1                0           0           0              2.0   \n3                1                0           1           1              1.0   \n4                1                0           1           1              1.0   \n...            ...              ...         ...         ...              ...   \n434808           1                0           0           0              2.0   \n434809           1                0           1           1              2.0   \n434810           1                0           1           1              2.0   \n434811           1                0           0           0              2.0   \n434812           1                0           0           0              1.0   \n\n        approved  \n0            1.0  \n1            1.0  \n2            1.0  \n3            1.0  \n4            1.0  \n...          ...  \n434808       1.0  \n434809       0.0  \n434810       0.0  \n434811       1.0  \n434812       1.0  \n\n[36457 rows x 18 columns]",
      "text/html": "<div>\n<style scoped>\n    .dataframe tbody tr th:only-of-type {\n        vertical-align: middle;\n    }\n\n    .dataframe tbody tr th {\n        vertical-align: top;\n    }\n\n    .dataframe thead th {\n        text-align: right;\n    }\n</style>\n<table border=\"1\" class=\"dataframe\">\n  <thead>\n    <tr style=\"text-align: right;\">\n      <th></th>\n      <th>ID</th>\n      <th>CODE_GENDER</th>\n      <th>FLAG_OWN_CAR</th>\n      <th>FLAG_OWN_REALTY</th>\n      <th>CNT_CHILDREN</th>\n      <th>AMT_INCOME_TOTAL</th>\n      <th>NAME_INCOME_TYPE</th>\n      <th>NAME_EDUCATION_TYPE</th>\n      <th>NAME_FAMILY_STATUS</th>\n      <th>NAME_HOUSING_TYPE</th>\n      <th>DAYS_BIRTH</th>\n      <th>DAYS_EMPLOYED</th>\n      <th>FLAG_MOBIL</th>\n      <th>FLAG_WORK_PHONE</th>\n      <th>FLAG_PHONE</th>\n      <th>FLAG_EMAIL</th>\n      <th>CNT_FAM_MEMBERS</th>\n      <th>approved</th>\n    </tr>\n  </thead>\n  <tbody>\n    <tr>\n      <th>0</th>\n      <td>5008804</td>\n      <td>1</td>\n      <td>1</td>\n      <td>1</td>\n      <td>0</td>\n      <td>427500.0</td>\n      <td>4</td>\n      <td>1</td>\n      <td>0</td>\n      <td>4</td>\n      <td>-12005</td>\n      <td>-4542.000000</td>\n      <td>1</td>\n      <td>1</td>\n      <td>0</td>\n      <td>0</td>\n      <td>2.0</td>\n      <td>1.0</td>\n    </tr>\n    <tr>\n      <th>1</th>\n      <td>5008805</td>\n      <td>1</td>\n      <td>1</td>\n      <td>1</td>\n      <td>0</td>\n      <td>427500.0</td>\n      <td>4</td>\n      <td>1</td>\n      <td>0</td>\n      <td>4</td>\n      <td>-12005</td>\n      <td>-4542.000000</td>\n      <td>1</td>\n      <td>1</td>\n      <td>0</td>\n      <td>0</td>\n      <td>2.0</td>\n      <td>1.0</td>\n    </tr>\n    <tr>\n      <th>2</th>\n      <td>5008806</td>\n      <td>1</td>\n      <td>1</td>\n      <td>1</td>\n      <td>0</td>\n      <td>112500.0</td>\n      <td>4</td>\n      <td>4</td>\n      <td>1</td>\n      <td>1</td>\n      <td>-21474</td>\n      <td>-1134.000000</td>\n      <td>1</td>\n      <td>0</td>\n      <td>0</td>\n      <td>0</td>\n      <td>2.0</td>\n      <td>1.0</td>\n    </tr>\n    <tr>\n      <th>3</th>\n      <td>5008808</td>\n      <td>0</td>\n      <td>0</td>\n      <td>1</td>\n      <td>0</td>\n      <td>270000.0</td>\n      <td>0</td>\n      <td>4</td>\n      <td>3</td>\n      <td>1</td>\n      <td>-19110</td>\n      <td>-3051.000000</td>\n      <td>1</td>\n      <td>0</td>\n      <td>1</td>\n      <td>1</td>\n      <td>1.0</td>\n      <td>1.0</td>\n    </tr>\n    <tr>\n      <th>4</th>\n      <td>5008809</td>\n      <td>0</td>\n      <td>0</td>\n      <td>1</td>\n      <td>0</td>\n      <td>270000.0</td>\n      <td>0</td>\n      <td>4</td>\n      <td>3</td>\n      <td>1</td>\n      <td>-19110</td>\n      <td>-3051.000000</td>\n      <td>1</td>\n      <td>0</td>\n      <td>1</td>\n      <td>1</td>\n      <td>1.0</td>\n      <td>1.0</td>\n    </tr>\n    <tr>\n      <th>...</th>\n      <td>...</td>\n      <td>...</td>\n      <td>...</td>\n      <td>...</td>\n      <td>...</td>\n      <td>...</td>\n      <td>...</td>\n      <td>...</td>\n      <td>...</td>\n      <td>...</td>\n      <td>...</td>\n      <td>...</td>\n      <td>...</td>\n      <td>...</td>\n      <td>...</td>\n      <td>...</td>\n      <td>...</td>\n      <td>...</td>\n    </tr>\n    <tr>\n      <th>434808</th>\n      <td>5149828</td>\n      <td>1</td>\n      <td>1</td>\n      <td>1</td>\n      <td>0</td>\n      <td>315000.0</td>\n      <td>4</td>\n      <td>4</td>\n      <td>1</td>\n      <td>1</td>\n      <td>-17348</td>\n      <td>-2420.000000</td>\n      <td>1</td>\n      <td>0</td>\n      <td>0</td>\n      <td>0</td>\n      <td>2.0</td>\n      <td>1.0</td>\n    </tr>\n    <tr>\n      <th>434809</th>\n      <td>5149834</td>\n      <td>0</td>\n      <td>0</td>\n      <td>1</td>\n      <td>0</td>\n      <td>157500.0</td>\n      <td>0</td>\n      <td>1</td>\n      <td>1</td>\n      <td>1</td>\n      <td>-12387</td>\n      <td>-1325.000000</td>\n      <td>1</td>\n      <td>0</td>\n      <td>1</td>\n      <td>1</td>\n      <td>2.0</td>\n      <td>0.0</td>\n    </tr>\n    <tr>\n      <th>434810</th>\n      <td>5149838</td>\n      <td>0</td>\n      <td>0</td>\n      <td>1</td>\n      <td>0</td>\n      <td>157500.0</td>\n      <td>1</td>\n      <td>1</td>\n      <td>1</td>\n      <td>1</td>\n      <td>-12387</td>\n      <td>-10428.571429</td>\n      <td>1</td>\n      <td>0</td>\n      <td>1</td>\n      <td>1</td>\n      <td>2.0</td>\n      <td>0.0</td>\n    </tr>\n    <tr>\n      <th>434811</th>\n      <td>5150049</td>\n      <td>0</td>\n      <td>0</td>\n      <td>1</td>\n      <td>0</td>\n      <td>283500.0</td>\n      <td>4</td>\n      <td>4</td>\n      <td>1</td>\n      <td>1</td>\n      <td>-17958</td>\n      <td>-655.000000</td>\n      <td>1</td>\n      <td>0</td>\n      <td>0</td>\n      <td>0</td>\n      <td>2.0</td>\n      <td>1.0</td>\n    </tr>\n    <tr>\n      <th>434812</th>\n      <td>5150337</td>\n      <td>1</td>\n      <td>0</td>\n      <td>1</td>\n      <td>0</td>\n      <td>112500.0</td>\n      <td>4</td>\n      <td>4</td>\n      <td>3</td>\n      <td>4</td>\n      <td>-9188</td>\n      <td>-1193.000000</td>\n      <td>1</td>\n      <td>0</td>\n      <td>0</td>\n      <td>0</td>\n      <td>1.0</td>\n      <td>1.0</td>\n    </tr>\n  </tbody>\n</table>\n<p>36457 rows × 18 columns</p>\n</div>"
     },
     "execution_count": 85,
     "metadata": {},
     "output_type": "execute_result"
    }
   ],
   "source": [
    "credit_application_data[categorical] = credit_application_data[categorical].apply(lambda x: x.cat.codes)\n",
    "credit_application_data"
   ],
   "metadata": {
    "collapsed": false,
    "pycharm": {
     "name": "#%%\n"
    }
   }
  },
  {
   "cell_type": "code",
   "execution_count": 87,
   "outputs": [
    {
     "data": {
      "text/plain": "ID                     0\nCODE_GENDER            0\nFLAG_OWN_CAR           0\nFLAG_OWN_REALTY        0\nCNT_CHILDREN           0\nAMT_INCOME_TOTAL       0\nNAME_INCOME_TYPE       0\nNAME_EDUCATION_TYPE    0\nNAME_FAMILY_STATUS     0\nNAME_HOUSING_TYPE      0\nDAYS_BIRTH             0\nDAYS_EMPLOYED          0\nFLAG_MOBIL             0\nFLAG_WORK_PHONE        0\nFLAG_PHONE             0\nFLAG_EMAIL             0\nCNT_FAM_MEMBERS        0\napproved               0\ndtype: int64"
     },
     "execution_count": 87,
     "metadata": {},
     "output_type": "execute_result"
    }
   ],
   "source": [
    "# check once again for nans\n",
    "credit_application_data.isnull().sum()"
   ],
   "metadata": {
    "collapsed": false,
    "pycharm": {
     "name": "#%%\n"
    }
   }
  }
 ],
 "metadata": {
  "kernelspec": {
   "display_name": "Python 3",
   "language": "python",
   "name": "python3"
  },
  "language_info": {
   "codemirror_mode": {
    "name": "ipython",
    "version": 2
   },
   "file_extension": ".py",
   "mimetype": "text/x-python",
   "name": "python",
   "nbconvert_exporter": "python",
   "pygments_lexer": "ipython2",
   "version": "2.7.6"
  }
 },
 "nbformat": 4,
 "nbformat_minor": 0
}