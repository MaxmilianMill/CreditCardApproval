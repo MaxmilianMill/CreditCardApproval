{
 "cells": [
  {
   "cell_type": "code",
   "execution_count": 46,
   "metadata": {
    "collapsed": true
   },
   "outputs": [],
   "source": [
    "from sklearn.linear_model import LogisticRegression\n",
    "from sklearn.svm import SVC\n",
    "from sklearn.neighbors import KNeighborsClassifier\n",
    "from sklearn.model_selection import train_test_split, GridSearchCV\n",
    "from sklearn.feature_selection import RFE\n",
    "from imblearn.over_sampling import SMOTE\n",
    "from sklearn import metrics\n",
    "import pandas as pd\n",
    "import numpy as np\n",
    "import seaborn as sns\n",
    "import pickle"
   ]
  },
  {
   "cell_type": "code",
   "execution_count": 5,
   "outputs": [
    {
     "data": {
      "text/plain": "       CODE_GENDER  FLAG_OWN_CAR  FLAG_OWN_REALTY  CNT_CHILDREN  \\\n0              1.0           1.0              1.0           0.0   \n1              1.0           1.0              1.0           0.0   \n2              1.0           1.0              1.0           0.0   \n3              0.0           0.0              1.0           0.0   \n4              0.0           0.0              1.0           0.0   \n...            ...           ...              ...           ...   \n36452          1.0           1.0              1.0           0.0   \n36453          0.0           0.0              1.0           0.0   \n36454          0.0           0.0              1.0           0.0   \n36455          0.0           0.0              1.0           0.0   \n36456          1.0           0.0              1.0           0.0   \n\n       AMT_INCOME_TOTAL  NAME_INCOME_TYPE  NAME_EDUCATION_TYPE  \\\n0              0.258721              1.00                 0.25   \n1              0.258721              1.00                 0.25   \n2              0.055233              1.00                 1.00   \n3              0.156977              0.00                 1.00   \n4              0.156977              0.00                 1.00   \n...                 ...               ...                  ...   \n36452          0.186047              1.00                 1.00   \n36453          0.084302              0.00                 0.25   \n36454          0.084302              0.25                 0.25   \n36455          0.165698              1.00                 1.00   \n36456          0.055233              1.00                 1.00   \n\n       NAME_FAMILY_STATUS  NAME_HOUSING_TYPE  DAYS_BIRTH  DAYS_EMPLOYED  \\\n0                    0.00                0.8    0.255676       0.288290   \n1                    0.00                0.8    0.255676       0.288290   \n2                    0.25                0.2    0.791768       0.071165   \n3                    0.75                0.2    0.657929       0.193298   \n4                    0.75                0.2    0.657929       0.193298   \n...                   ...                ...         ...            ...   \n36452                0.25                0.2    0.558172       0.153096   \n36453                0.25                0.2    0.277303       0.083333   \n36454                0.25                0.2    0.277303       0.663326   \n36455                0.25                0.2    0.592708       0.040647   \n36456                0.75                0.8    0.096190       0.074924   \n\n       FLAG_MOBIL  FLAG_WORK_PHONE  FLAG_PHONE  FLAG_EMAIL  CNT_FAM_MEMBERS  \\\n0             0.0              1.0         0.0         0.0         0.052632   \n1             0.0              1.0         0.0         0.0         0.052632   \n2             0.0              0.0         0.0         0.0         0.052632   \n3             0.0              0.0         1.0         1.0         0.000000   \n4             0.0              0.0         1.0         1.0         0.000000   \n...           ...              ...         ...         ...              ...   \n36452         0.0              0.0         0.0         0.0         0.052632   \n36453         0.0              0.0         1.0         1.0         0.052632   \n36454         0.0              0.0         1.0         1.0         0.052632   \n36455         0.0              0.0         0.0         0.0         0.052632   \n36456         0.0              0.0         0.0         0.0         0.000000   \n\n       approved  \n0           1.0  \n1           1.0  \n2           1.0  \n3           1.0  \n4           1.0  \n...         ...  \n36452       1.0  \n36453       0.0  \n36454       0.0  \n36455       1.0  \n36456       1.0  \n\n[36457 rows x 17 columns]",
      "text/html": "<div>\n<style scoped>\n    .dataframe tbody tr th:only-of-type {\n        vertical-align: middle;\n    }\n\n    .dataframe tbody tr th {\n        vertical-align: top;\n    }\n\n    .dataframe thead th {\n        text-align: right;\n    }\n</style>\n<table border=\"1\" class=\"dataframe\">\n  <thead>\n    <tr style=\"text-align: right;\">\n      <th></th>\n      <th>CODE_GENDER</th>\n      <th>FLAG_OWN_CAR</th>\n      <th>FLAG_OWN_REALTY</th>\n      <th>CNT_CHILDREN</th>\n      <th>AMT_INCOME_TOTAL</th>\n      <th>NAME_INCOME_TYPE</th>\n      <th>NAME_EDUCATION_TYPE</th>\n      <th>NAME_FAMILY_STATUS</th>\n      <th>NAME_HOUSING_TYPE</th>\n      <th>DAYS_BIRTH</th>\n      <th>DAYS_EMPLOYED</th>\n      <th>FLAG_MOBIL</th>\n      <th>FLAG_WORK_PHONE</th>\n      <th>FLAG_PHONE</th>\n      <th>FLAG_EMAIL</th>\n      <th>CNT_FAM_MEMBERS</th>\n      <th>approved</th>\n    </tr>\n  </thead>\n  <tbody>\n    <tr>\n      <th>0</th>\n      <td>1.0</td>\n      <td>1.0</td>\n      <td>1.0</td>\n      <td>0.0</td>\n      <td>0.258721</td>\n      <td>1.00</td>\n      <td>0.25</td>\n      <td>0.00</td>\n      <td>0.8</td>\n      <td>0.255676</td>\n      <td>0.288290</td>\n      <td>0.0</td>\n      <td>1.0</td>\n      <td>0.0</td>\n      <td>0.0</td>\n      <td>0.052632</td>\n      <td>1.0</td>\n    </tr>\n    <tr>\n      <th>1</th>\n      <td>1.0</td>\n      <td>1.0</td>\n      <td>1.0</td>\n      <td>0.0</td>\n      <td>0.258721</td>\n      <td>1.00</td>\n      <td>0.25</td>\n      <td>0.00</td>\n      <td>0.8</td>\n      <td>0.255676</td>\n      <td>0.288290</td>\n      <td>0.0</td>\n      <td>1.0</td>\n      <td>0.0</td>\n      <td>0.0</td>\n      <td>0.052632</td>\n      <td>1.0</td>\n    </tr>\n    <tr>\n      <th>2</th>\n      <td>1.0</td>\n      <td>1.0</td>\n      <td>1.0</td>\n      <td>0.0</td>\n      <td>0.055233</td>\n      <td>1.00</td>\n      <td>1.00</td>\n      <td>0.25</td>\n      <td>0.2</td>\n      <td>0.791768</td>\n      <td>0.071165</td>\n      <td>0.0</td>\n      <td>0.0</td>\n      <td>0.0</td>\n      <td>0.0</td>\n      <td>0.052632</td>\n      <td>1.0</td>\n    </tr>\n    <tr>\n      <th>3</th>\n      <td>0.0</td>\n      <td>0.0</td>\n      <td>1.0</td>\n      <td>0.0</td>\n      <td>0.156977</td>\n      <td>0.00</td>\n      <td>1.00</td>\n      <td>0.75</td>\n      <td>0.2</td>\n      <td>0.657929</td>\n      <td>0.193298</td>\n      <td>0.0</td>\n      <td>0.0</td>\n      <td>1.0</td>\n      <td>1.0</td>\n      <td>0.000000</td>\n      <td>1.0</td>\n    </tr>\n    <tr>\n      <th>4</th>\n      <td>0.0</td>\n      <td>0.0</td>\n      <td>1.0</td>\n      <td>0.0</td>\n      <td>0.156977</td>\n      <td>0.00</td>\n      <td>1.00</td>\n      <td>0.75</td>\n      <td>0.2</td>\n      <td>0.657929</td>\n      <td>0.193298</td>\n      <td>0.0</td>\n      <td>0.0</td>\n      <td>1.0</td>\n      <td>1.0</td>\n      <td>0.000000</td>\n      <td>1.0</td>\n    </tr>\n    <tr>\n      <th>...</th>\n      <td>...</td>\n      <td>...</td>\n      <td>...</td>\n      <td>...</td>\n      <td>...</td>\n      <td>...</td>\n      <td>...</td>\n      <td>...</td>\n      <td>...</td>\n      <td>...</td>\n      <td>...</td>\n      <td>...</td>\n      <td>...</td>\n      <td>...</td>\n      <td>...</td>\n      <td>...</td>\n      <td>...</td>\n    </tr>\n    <tr>\n      <th>36452</th>\n      <td>1.0</td>\n      <td>1.0</td>\n      <td>1.0</td>\n      <td>0.0</td>\n      <td>0.186047</td>\n      <td>1.00</td>\n      <td>1.00</td>\n      <td>0.25</td>\n      <td>0.2</td>\n      <td>0.558172</td>\n      <td>0.153096</td>\n      <td>0.0</td>\n      <td>0.0</td>\n      <td>0.0</td>\n      <td>0.0</td>\n      <td>0.052632</td>\n      <td>1.0</td>\n    </tr>\n    <tr>\n      <th>36453</th>\n      <td>0.0</td>\n      <td>0.0</td>\n      <td>1.0</td>\n      <td>0.0</td>\n      <td>0.084302</td>\n      <td>0.00</td>\n      <td>0.25</td>\n      <td>0.25</td>\n      <td>0.2</td>\n      <td>0.277303</td>\n      <td>0.083333</td>\n      <td>0.0</td>\n      <td>0.0</td>\n      <td>1.0</td>\n      <td>1.0</td>\n      <td>0.052632</td>\n      <td>0.0</td>\n    </tr>\n    <tr>\n      <th>36454</th>\n      <td>0.0</td>\n      <td>0.0</td>\n      <td>1.0</td>\n      <td>0.0</td>\n      <td>0.084302</td>\n      <td>0.25</td>\n      <td>0.25</td>\n      <td>0.25</td>\n      <td>0.2</td>\n      <td>0.277303</td>\n      <td>0.663326</td>\n      <td>0.0</td>\n      <td>0.0</td>\n      <td>1.0</td>\n      <td>1.0</td>\n      <td>0.052632</td>\n      <td>0.0</td>\n    </tr>\n    <tr>\n      <th>36455</th>\n      <td>0.0</td>\n      <td>0.0</td>\n      <td>1.0</td>\n      <td>0.0</td>\n      <td>0.165698</td>\n      <td>1.00</td>\n      <td>1.00</td>\n      <td>0.25</td>\n      <td>0.2</td>\n      <td>0.592708</td>\n      <td>0.040647</td>\n      <td>0.0</td>\n      <td>0.0</td>\n      <td>0.0</td>\n      <td>0.0</td>\n      <td>0.052632</td>\n      <td>1.0</td>\n    </tr>\n    <tr>\n      <th>36456</th>\n      <td>1.0</td>\n      <td>0.0</td>\n      <td>1.0</td>\n      <td>0.0</td>\n      <td>0.055233</td>\n      <td>1.00</td>\n      <td>1.00</td>\n      <td>0.75</td>\n      <td>0.8</td>\n      <td>0.096190</td>\n      <td>0.074924</td>\n      <td>0.0</td>\n      <td>0.0</td>\n      <td>0.0</td>\n      <td>0.0</td>\n      <td>0.000000</td>\n      <td>1.0</td>\n    </tr>\n  </tbody>\n</table>\n<p>36457 rows × 17 columns</p>\n</div>"
     },
     "execution_count": 5,
     "metadata": {},
     "output_type": "execute_result"
    }
   ],
   "source": [
    "data = pd.read_csv('data/normalized_data')\n",
    "data"
   ],
   "metadata": {
    "collapsed": false,
    "pycharm": {
     "name": "#%%\n"
    }
   }
  },
  {
   "cell_type": "code",
   "execution_count": 6,
   "outputs": [
    {
     "name": "stdout",
     "output_type": "stream",
     "text": [
      "[ True False  True  True False  True False  True False False  True False\n",
      " False False  True  True]\n",
      "[1 2 1 1 3 1 4 1 6 5 1 9 7 8 1 1]\n"
     ]
    }
   ],
   "source": [
    "# evaluate features with recursive feature elimination\n",
    "logistic_regression = LogisticRegression()\n",
    "rec_feature_elimination = RFE(logistic_regression, n_features_to_select=0.5)\n",
    "rec_feature_elimination.fit(data.loc[:, data.columns != 'approved'], data.loc[:, 'approved'])\n",
    "print(rec_feature_elimination.support_)\n",
    "print(rec_feature_elimination.ranking_)"
   ],
   "metadata": {
    "collapsed": false,
    "pycharm": {
     "name": "#%%\n"
    }
   }
  },
  {
   "cell_type": "code",
   "execution_count": 7,
   "outputs": [
    {
     "data": {
      "text/plain": "       CODE_GENDER  FLAG_OWN_REALTY  CNT_CHILDREN  NAME_INCOME_TYPE  \\\n0              1.0              1.0           0.0              1.00   \n1              1.0              1.0           0.0              1.00   \n2              1.0              1.0           0.0              1.00   \n3              0.0              1.0           0.0              0.00   \n4              0.0              1.0           0.0              0.00   \n...            ...              ...           ...               ...   \n36452          1.0              1.0           0.0              1.00   \n36453          0.0              1.0           0.0              0.00   \n36454          0.0              1.0           0.0              0.25   \n36455          0.0              1.0           0.0              1.00   \n36456          1.0              1.0           0.0              1.00   \n\n       NAME_FAMILY_STATUS  DAYS_EMPLOYED  FLAG_EMAIL  CNT_FAM_MEMBERS  \\\n0                    0.00       0.288290         0.0         0.052632   \n1                    0.00       0.288290         0.0         0.052632   \n2                    0.25       0.071165         0.0         0.052632   \n3                    0.75       0.193298         1.0         0.000000   \n4                    0.75       0.193298         1.0         0.000000   \n...                   ...            ...         ...              ...   \n36452                0.25       0.153096         0.0         0.052632   \n36453                0.25       0.083333         1.0         0.052632   \n36454                0.25       0.663326         1.0         0.052632   \n36455                0.25       0.040647         0.0         0.052632   \n36456                0.75       0.074924         0.0         0.000000   \n\n       approved  \n0           1.0  \n1           1.0  \n2           1.0  \n3           1.0  \n4           1.0  \n...         ...  \n36452       1.0  \n36453       0.0  \n36454       0.0  \n36455       1.0  \n36456       1.0  \n\n[36457 rows x 9 columns]",
      "text/html": "<div>\n<style scoped>\n    .dataframe tbody tr th:only-of-type {\n        vertical-align: middle;\n    }\n\n    .dataframe tbody tr th {\n        vertical-align: top;\n    }\n\n    .dataframe thead th {\n        text-align: right;\n    }\n</style>\n<table border=\"1\" class=\"dataframe\">\n  <thead>\n    <tr style=\"text-align: right;\">\n      <th></th>\n      <th>CODE_GENDER</th>\n      <th>FLAG_OWN_REALTY</th>\n      <th>CNT_CHILDREN</th>\n      <th>NAME_INCOME_TYPE</th>\n      <th>NAME_FAMILY_STATUS</th>\n      <th>DAYS_EMPLOYED</th>\n      <th>FLAG_EMAIL</th>\n      <th>CNT_FAM_MEMBERS</th>\n      <th>approved</th>\n    </tr>\n  </thead>\n  <tbody>\n    <tr>\n      <th>0</th>\n      <td>1.0</td>\n      <td>1.0</td>\n      <td>0.0</td>\n      <td>1.00</td>\n      <td>0.00</td>\n      <td>0.288290</td>\n      <td>0.0</td>\n      <td>0.052632</td>\n      <td>1.0</td>\n    </tr>\n    <tr>\n      <th>1</th>\n      <td>1.0</td>\n      <td>1.0</td>\n      <td>0.0</td>\n      <td>1.00</td>\n      <td>0.00</td>\n      <td>0.288290</td>\n      <td>0.0</td>\n      <td>0.052632</td>\n      <td>1.0</td>\n    </tr>\n    <tr>\n      <th>2</th>\n      <td>1.0</td>\n      <td>1.0</td>\n      <td>0.0</td>\n      <td>1.00</td>\n      <td>0.25</td>\n      <td>0.071165</td>\n      <td>0.0</td>\n      <td>0.052632</td>\n      <td>1.0</td>\n    </tr>\n    <tr>\n      <th>3</th>\n      <td>0.0</td>\n      <td>1.0</td>\n      <td>0.0</td>\n      <td>0.00</td>\n      <td>0.75</td>\n      <td>0.193298</td>\n      <td>1.0</td>\n      <td>0.000000</td>\n      <td>1.0</td>\n    </tr>\n    <tr>\n      <th>4</th>\n      <td>0.0</td>\n      <td>1.0</td>\n      <td>0.0</td>\n      <td>0.00</td>\n      <td>0.75</td>\n      <td>0.193298</td>\n      <td>1.0</td>\n      <td>0.000000</td>\n      <td>1.0</td>\n    </tr>\n    <tr>\n      <th>...</th>\n      <td>...</td>\n      <td>...</td>\n      <td>...</td>\n      <td>...</td>\n      <td>...</td>\n      <td>...</td>\n      <td>...</td>\n      <td>...</td>\n      <td>...</td>\n    </tr>\n    <tr>\n      <th>36452</th>\n      <td>1.0</td>\n      <td>1.0</td>\n      <td>0.0</td>\n      <td>1.00</td>\n      <td>0.25</td>\n      <td>0.153096</td>\n      <td>0.0</td>\n      <td>0.052632</td>\n      <td>1.0</td>\n    </tr>\n    <tr>\n      <th>36453</th>\n      <td>0.0</td>\n      <td>1.0</td>\n      <td>0.0</td>\n      <td>0.00</td>\n      <td>0.25</td>\n      <td>0.083333</td>\n      <td>1.0</td>\n      <td>0.052632</td>\n      <td>0.0</td>\n    </tr>\n    <tr>\n      <th>36454</th>\n      <td>0.0</td>\n      <td>1.0</td>\n      <td>0.0</td>\n      <td>0.25</td>\n      <td>0.25</td>\n      <td>0.663326</td>\n      <td>1.0</td>\n      <td>0.052632</td>\n      <td>0.0</td>\n    </tr>\n    <tr>\n      <th>36455</th>\n      <td>0.0</td>\n      <td>1.0</td>\n      <td>0.0</td>\n      <td>1.00</td>\n      <td>0.25</td>\n      <td>0.040647</td>\n      <td>0.0</td>\n      <td>0.052632</td>\n      <td>1.0</td>\n    </tr>\n    <tr>\n      <th>36456</th>\n      <td>1.0</td>\n      <td>1.0</td>\n      <td>0.0</td>\n      <td>1.00</td>\n      <td>0.75</td>\n      <td>0.074924</td>\n      <td>0.0</td>\n      <td>0.000000</td>\n      <td>1.0</td>\n    </tr>\n  </tbody>\n</table>\n<p>36457 rows × 9 columns</p>\n</div>"
     },
     "execution_count": 7,
     "metadata": {},
     "output_type": "execute_result"
    }
   ],
   "source": [
    "columns = data.loc[:, data.columns != 'approved'].columns\n",
    "\n",
    "# delete the 50% of feature with less predictability quality\n",
    "for feature, support in zip(columns, rec_feature_elimination.support_):\n",
    "\n",
    "    if not support:\n",
    "        data.drop(feature, axis=1, inplace=True)\n",
    "\n",
    "data"
   ],
   "metadata": {
    "collapsed": false,
    "pycharm": {
     "name": "#%%\n"
    }
   }
  },
  {
   "cell_type": "code",
   "execution_count": 8,
   "outputs": [],
   "source": [
    "X_train, X_test, y_train, y_test = train_test_split(data.iloc[:, :-1], data.approved, test_size=0.25, random_state=0)"
   ],
   "metadata": {
    "collapsed": false,
    "pycharm": {
     "name": "#%%\n"
    }
   }
  },
  {
   "cell_type": "code",
   "execution_count": 9,
   "outputs": [
    {
     "data": {
      "text/plain": "array([[   0,   34],\n       [   0, 9081]], dtype=int64)"
     },
     "execution_count": 9,
     "metadata": {},
     "output_type": "execute_result"
    }
   ],
   "source": [
    "model = logistic_regression.fit(X_train, y_train)\n",
    "y_pred = model.predict(X_test)\n",
    "\n",
    "metrics.accuracy_score(y_pred, y_test)\n",
    "metrics.confusion_matrix(y_test, y_pred)"
   ],
   "metadata": {
    "collapsed": false,
    "pycharm": {
     "name": "#%%\n"
    }
   }
  },
  {
   "cell_type": "markdown",
   "source": [
    "### Resampling (SMOTE)\n",
    "The confusion matrix shows that the model classifies every event as the majority class. Because this means the model is not able to recognize any of the majority instances, we\n",
    "need to resample the data using the SMOTE technique. This increases the number of minority samples by creating synthetic samples based on the original samples."
   ],
   "metadata": {
    "collapsed": false,
    "pycharm": {
     "name": "#%% md\n"
    }
   }
  },
  {
   "cell_type": "code",
   "execution_count": 10,
   "outputs": [
    {
     "data": {
      "text/plain": "1.0    36290\n0.0    18145\nName: approved, dtype: int64"
     },
     "execution_count": 10,
     "metadata": {},
     "output_type": "execute_result"
    }
   ],
   "source": [
    "smote = SMOTE(sampling_strategy=0.5, random_state=0, k_neighbors=5)\n",
    "\n",
    "# resample data\n",
    "res_X, res_y = smote.fit_resample(data.iloc[:, :-1], data.approved)\n",
    "res_y.value_counts()"
   ],
   "metadata": {
    "collapsed": false,
    "pycharm": {
     "name": "#%%\n"
    }
   }
  },
  {
   "cell_type": "code",
   "execution_count": 11,
   "outputs": [],
   "source": [
    "X_train, X_test, y_train, y_test = train_test_split(res_X, res_y, test_size=0.25, random_state=0)"
   ],
   "metadata": {
    "collapsed": false,
    "pycharm": {
     "name": "#%%\n"
    }
   }
  },
  {
   "cell_type": "code",
   "execution_count": 23,
   "outputs": [],
   "source": [
    "model_list = [LogisticRegression(), KNeighborsClassifier(), SVC()]\n",
    "ac_scores = []\n",
    "cm_scores = []\n",
    "\n",
    "for model in model_list:\n",
    "    model = model.fit(X_train, y_train)\n",
    "    y_pred = model.predict(X_test)\n",
    "    ac_scores.append(metrics.accuracy_score(y_test, y_pred))\n",
    "    cm_scores.append(metrics.confusion_matrix(y_test, y_pred))\n"
   ],
   "metadata": {
    "collapsed": false,
    "pycharm": {
     "name": "#%%\n"
    }
   }
  },
  {
   "cell_type": "code",
   "execution_count": 24,
   "outputs": [
    {
     "name": "stdout",
     "output_type": "stream",
     "text": [
      "[0.6743331618781688, 0.91762804026747, 0.7193768829451098]\n",
      "[array([[ 610, 3942],\n",
      "       [ 490, 8567]], dtype=int64), array([[3726,  826],\n",
      "       [ 295, 8762]], dtype=int64), array([[1582, 2970],\n",
      "       [ 849, 8208]], dtype=int64)]\n"
     ]
    }
   ],
   "source": [
    "print(ac_scores)\n",
    "print(cm_scores)"
   ],
   "metadata": {
    "collapsed": false,
    "pycharm": {
     "name": "#%%\n"
    }
   }
  },
  {
   "cell_type": "markdown",
   "source": [
    "### KNN Classifier\n",
    "We tested three different models without hyperparameter tuning on the dataset. The KNN model performed best while the other models remained significantly less accurate\n",
    "Based on the results we will choose the KNN model to predict values.\n",
    "In the next step we will tune the hyperparameters using grid search to optimize the model"
   ],
   "metadata": {
    "collapsed": false,
    "pycharm": {
     "name": "#%% md\n"
    }
   }
  },
  {
   "cell_type": "code",
   "execution_count": 29,
   "outputs": [
    {
     "name": "stdout",
     "output_type": "stream",
     "text": [
      "Fitting 5 folds for each of 48 candidates, totalling 240 fits\n",
      "[CV] END .....................n_neighbors=1, weights=uniform; total time=   1.9s\n",
      "[CV] END .....................n_neighbors=1, weights=uniform; total time=   1.7s\n",
      "[CV] END .....................n_neighbors=1, weights=uniform; total time=   1.6s\n",
      "[CV] END .....................n_neighbors=1, weights=uniform; total time=   1.3s\n",
      "[CV] END .....................n_neighbors=1, weights=uniform; total time=   1.2s\n",
      "[CV] END ....................n_neighbors=1, weights=distance; total time=   1.8s\n",
      "[CV] END ....................n_neighbors=1, weights=distance; total time=   1.9s\n",
      "[CV] END ....................n_neighbors=1, weights=distance; total time=   1.9s\n",
      "[CV] END ....................n_neighbors=1, weights=distance; total time=   1.5s\n",
      "[CV] END ....................n_neighbors=1, weights=distance; total time=   1.4s\n",
      "[CV] END .....................n_neighbors=2, weights=uniform; total time=   2.4s\n",
      "[CV] END .....................n_neighbors=2, weights=uniform; total time=   2.9s\n",
      "[CV] END .....................n_neighbors=2, weights=uniform; total time=   1.8s\n",
      "[CV] END .....................n_neighbors=2, weights=uniform; total time=   2.0s\n",
      "[CV] END .....................n_neighbors=2, weights=uniform; total time=   1.9s\n",
      "[CV] END ....................n_neighbors=2, weights=distance; total time=   1.2s\n",
      "[CV] END ....................n_neighbors=2, weights=distance; total time=   1.1s\n",
      "[CV] END ....................n_neighbors=2, weights=distance; total time=   1.5s\n",
      "[CV] END ....................n_neighbors=2, weights=distance; total time=   1.7s\n",
      "[CV] END ....................n_neighbors=2, weights=distance; total time=   1.8s\n",
      "[CV] END .....................n_neighbors=3, weights=uniform; total time=   2.0s\n",
      "[CV] END .....................n_neighbors=3, weights=uniform; total time=   1.5s\n",
      "[CV] END .....................n_neighbors=3, weights=uniform; total time=   1.7s\n",
      "[CV] END .....................n_neighbors=3, weights=uniform; total time=   3.4s\n",
      "[CV] END .....................n_neighbors=3, weights=uniform; total time=   2.8s\n",
      "[CV] END ....................n_neighbors=3, weights=distance; total time=   2.1s\n",
      "[CV] END ....................n_neighbors=3, weights=distance; total time=   3.2s\n",
      "[CV] END ....................n_neighbors=3, weights=distance; total time=   2.0s\n",
      "[CV] END ....................n_neighbors=3, weights=distance; total time=   2.0s\n",
      "[CV] END ....................n_neighbors=3, weights=distance; total time=   1.8s\n",
      "[CV] END .....................n_neighbors=4, weights=uniform; total time=   2.9s\n",
      "[CV] END .....................n_neighbors=4, weights=uniform; total time=   2.0s\n",
      "[CV] END .....................n_neighbors=4, weights=uniform; total time=   2.3s\n",
      "[CV] END .....................n_neighbors=4, weights=uniform; total time=   2.4s\n",
      "[CV] END .....................n_neighbors=4, weights=uniform; total time=   2.5s\n",
      "[CV] END ....................n_neighbors=4, weights=distance; total time=   1.8s\n",
      "[CV] END ....................n_neighbors=4, weights=distance; total time=   1.6s\n",
      "[CV] END ....................n_neighbors=4, weights=distance; total time=   1.6s\n",
      "[CV] END ....................n_neighbors=4, weights=distance; total time=   1.7s\n",
      "[CV] END ....................n_neighbors=4, weights=distance; total time=   2.1s\n",
      "[CV] END .....................n_neighbors=5, weights=uniform; total time=   2.3s\n",
      "[CV] END .....................n_neighbors=5, weights=uniform; total time=   2.2s\n",
      "[CV] END .....................n_neighbors=5, weights=uniform; total time=   2.0s\n",
      "[CV] END .....................n_neighbors=5, weights=uniform; total time=   2.1s\n",
      "[CV] END .....................n_neighbors=5, weights=uniform; total time=   2.5s\n",
      "[CV] END ....................n_neighbors=5, weights=distance; total time=   2.0s\n",
      "[CV] END ....................n_neighbors=5, weights=distance; total time=   1.8s\n",
      "[CV] END ....................n_neighbors=5, weights=distance; total time=   1.6s\n",
      "[CV] END ....................n_neighbors=5, weights=distance; total time=   1.7s\n",
      "[CV] END ....................n_neighbors=5, weights=distance; total time=   2.0s\n",
      "[CV] END .....................n_neighbors=6, weights=uniform; total time=   2.4s\n",
      "[CV] END .....................n_neighbors=6, weights=uniform; total time=   2.9s\n",
      "[CV] END .....................n_neighbors=6, weights=uniform; total time=   2.4s\n",
      "[CV] END .....................n_neighbors=6, weights=uniform; total time=   2.1s\n",
      "[CV] END .....................n_neighbors=6, weights=uniform; total time=   2.4s\n",
      "[CV] END ....................n_neighbors=6, weights=distance; total time=   2.0s\n",
      "[CV] END ....................n_neighbors=6, weights=distance; total time=   2.2s\n",
      "[CV] END ....................n_neighbors=6, weights=distance; total time=   1.7s\n",
      "[CV] END ....................n_neighbors=6, weights=distance; total time=   1.2s\n",
      "[CV] END ....................n_neighbors=6, weights=distance; total time=   2.2s\n",
      "[CV] END .....................n_neighbors=7, weights=uniform; total time=   3.8s\n",
      "[CV] END .....................n_neighbors=7, weights=uniform; total time=   3.5s\n",
      "[CV] END .....................n_neighbors=7, weights=uniform; total time=   2.3s\n",
      "[CV] END .....................n_neighbors=7, weights=uniform; total time=   2.1s\n",
      "[CV] END .....................n_neighbors=7, weights=uniform; total time=   2.8s\n",
      "[CV] END ....................n_neighbors=7, weights=distance; total time=   1.9s\n",
      "[CV] END ....................n_neighbors=7, weights=distance; total time=   2.1s\n",
      "[CV] END ....................n_neighbors=7, weights=distance; total time=   1.3s\n",
      "[CV] END ....................n_neighbors=7, weights=distance; total time=   1.3s\n",
      "[CV] END ....................n_neighbors=7, weights=distance; total time=   1.3s\n",
      "[CV] END .....................n_neighbors=8, weights=uniform; total time=   1.6s\n",
      "[CV] END .....................n_neighbors=8, weights=uniform; total time=   2.1s\n",
      "[CV] END .....................n_neighbors=8, weights=uniform; total time=   2.1s\n",
      "[CV] END .....................n_neighbors=8, weights=uniform; total time=   2.0s\n",
      "[CV] END .....................n_neighbors=8, weights=uniform; total time=   1.5s\n",
      "[CV] END ....................n_neighbors=8, weights=distance; total time=   1.3s\n",
      "[CV] END ....................n_neighbors=8, weights=distance; total time=   1.0s\n",
      "[CV] END ....................n_neighbors=8, weights=distance; total time=   1.5s\n",
      "[CV] END ....................n_neighbors=8, weights=distance; total time=   1.6s\n",
      "[CV] END ....................n_neighbors=8, weights=distance; total time=   1.8s\n",
      "[CV] END .....................n_neighbors=9, weights=uniform; total time=   1.7s\n",
      "[CV] END .....................n_neighbors=9, weights=uniform; total time=   1.5s\n",
      "[CV] END .....................n_neighbors=9, weights=uniform; total time=   1.4s\n",
      "[CV] END .....................n_neighbors=9, weights=uniform; total time=   1.6s\n",
      "[CV] END .....................n_neighbors=9, weights=uniform; total time=   2.1s\n",
      "[CV] END ....................n_neighbors=9, weights=distance; total time=   1.8s\n",
      "[CV] END ....................n_neighbors=9, weights=distance; total time=   1.4s\n",
      "[CV] END ....................n_neighbors=9, weights=distance; total time=   1.0s\n",
      "[CV] END ....................n_neighbors=9, weights=distance; total time=   1.2s\n",
      "[CV] END ....................n_neighbors=9, weights=distance; total time=   1.1s\n",
      "[CV] END ....................n_neighbors=10, weights=uniform; total time=   1.7s\n",
      "[CV] END ....................n_neighbors=10, weights=uniform; total time=   2.2s\n",
      "[CV] END ....................n_neighbors=10, weights=uniform; total time=   2.2s\n",
      "[CV] END ....................n_neighbors=10, weights=uniform; total time=   1.7s\n",
      "[CV] END ....................n_neighbors=10, weights=uniform; total time=   1.4s\n",
      "[CV] END ...................n_neighbors=10, weights=distance; total time=   1.1s\n",
      "[CV] END ...................n_neighbors=10, weights=distance; total time=   1.3s\n",
      "[CV] END ...................n_neighbors=10, weights=distance; total time=   1.6s\n",
      "[CV] END ...................n_neighbors=10, weights=distance; total time=   1.7s\n",
      "[CV] END ...................n_neighbors=10, weights=distance; total time=   1.7s\n",
      "[CV] END ....................n_neighbors=11, weights=uniform; total time=   1.4s\n",
      "[CV] END ....................n_neighbors=11, weights=uniform; total time=   1.4s\n",
      "[CV] END ....................n_neighbors=11, weights=uniform; total time=   1.1s\n",
      "[CV] END ....................n_neighbors=11, weights=uniform; total time=   1.3s\n",
      "[CV] END ....................n_neighbors=11, weights=uniform; total time=   1.8s\n",
      "[CV] END ...................n_neighbors=11, weights=distance; total time=   1.3s\n",
      "[CV] END ...................n_neighbors=11, weights=distance; total time=   1.3s\n",
      "[CV] END ...................n_neighbors=11, weights=distance; total time=   0.7s\n",
      "[CV] END ...................n_neighbors=11, weights=distance; total time=   0.8s\n",
      "[CV] END ...................n_neighbors=11, weights=distance; total time=   0.8s\n",
      "[CV] END ....................n_neighbors=12, weights=uniform; total time=   1.1s\n",
      "[CV] END ....................n_neighbors=12, weights=uniform; total time=   1.1s\n",
      "[CV] END ....................n_neighbors=12, weights=uniform; total time=   1.8s\n",
      "[CV] END ....................n_neighbors=12, weights=uniform; total time=   1.9s\n",
      "[CV] END ....................n_neighbors=12, weights=uniform; total time=   1.6s\n",
      "[CV] END ...................n_neighbors=12, weights=distance; total time=   0.8s\n",
      "[CV] END ...................n_neighbors=12, weights=distance; total time=   0.8s\n",
      "[CV] END ...................n_neighbors=12, weights=distance; total time=   0.8s\n",
      "[CV] END ...................n_neighbors=12, weights=distance; total time=   0.8s\n",
      "[CV] END ...................n_neighbors=12, weights=distance; total time=   0.8s\n",
      "[CV] END ....................n_neighbors=13, weights=uniform; total time=   1.5s\n",
      "[CV] END ....................n_neighbors=13, weights=uniform; total time=   1.7s\n",
      "[CV] END ....................n_neighbors=13, weights=uniform; total time=   1.7s\n",
      "[CV] END ....................n_neighbors=13, weights=uniform; total time=   1.4s\n",
      "[CV] END ....................n_neighbors=13, weights=uniform; total time=   1.1s\n",
      "[CV] END ...................n_neighbors=13, weights=distance; total time=   0.8s\n",
      "[CV] END ...................n_neighbors=13, weights=distance; total time=   0.8s\n",
      "[CV] END ...................n_neighbors=13, weights=distance; total time=   0.8s\n",
      "[CV] END ...................n_neighbors=13, weights=distance; total time=   1.2s\n",
      "[CV] END ...................n_neighbors=13, weights=distance; total time=   1.3s\n",
      "[CV] END ....................n_neighbors=14, weights=uniform; total time=   1.7s\n",
      "[CV] END ....................n_neighbors=14, weights=uniform; total time=   2.0s\n",
      "[CV] END ....................n_neighbors=14, weights=uniform; total time=   1.2s\n",
      "[CV] END ....................n_neighbors=14, weights=uniform; total time=   1.1s\n",
      "[CV] END ....................n_neighbors=14, weights=uniform; total time=   1.1s\n",
      "[CV] END ...................n_neighbors=14, weights=distance; total time=   0.8s\n",
      "[CV] END ...................n_neighbors=14, weights=distance; total time=   1.3s\n",
      "[CV] END ...................n_neighbors=14, weights=distance; total time=   1.2s\n",
      "[CV] END ...................n_neighbors=14, weights=distance; total time=   1.3s\n",
      "[CV] END ...................n_neighbors=14, weights=distance; total time=   1.2s\n",
      "[CV] END ....................n_neighbors=15, weights=uniform; total time=   1.1s\n",
      "[CV] END ....................n_neighbors=15, weights=uniform; total time=   1.1s\n",
      "[CV] END ....................n_neighbors=15, weights=uniform; total time=   1.1s\n",
      "[CV] END ....................n_neighbors=15, weights=uniform; total time=   1.1s\n",
      "[CV] END ....................n_neighbors=15, weights=uniform; total time=   1.6s\n",
      "[CV] END ...................n_neighbors=15, weights=distance; total time=   1.3s\n",
      "[CV] END ...................n_neighbors=15, weights=distance; total time=   1.3s\n",
      "[CV] END ...................n_neighbors=15, weights=distance; total time=   1.2s\n",
      "[CV] END ...................n_neighbors=15, weights=distance; total time=   0.9s\n",
      "[CV] END ...................n_neighbors=15, weights=distance; total time=   0.8s\n",
      "[CV] END ....................n_neighbors=16, weights=uniform; total time=   1.1s\n",
      "[CV] END ....................n_neighbors=16, weights=uniform; total time=   1.1s\n",
      "[CV] END ....................n_neighbors=16, weights=uniform; total time=   1.7s\n",
      "[CV] END ....................n_neighbors=16, weights=uniform; total time=   1.6s\n",
      "[CV] END ....................n_neighbors=16, weights=uniform; total time=   1.6s\n",
      "[CV] END ...................n_neighbors=16, weights=distance; total time=   0.8s\n",
      "[CV] END ...................n_neighbors=16, weights=distance; total time=   1.0s\n",
      "[CV] END ...................n_neighbors=16, weights=distance; total time=   1.3s\n",
      "[CV] END ...................n_neighbors=16, weights=distance; total time=   0.9s\n",
      "[CV] END ...................n_neighbors=16, weights=distance; total time=   1.0s\n",
      "[CV] END ....................n_neighbors=17, weights=uniform; total time=   1.7s\n",
      "[CV] END ....................n_neighbors=17, weights=uniform; total time=   1.8s\n",
      "[CV] END ....................n_neighbors=17, weights=uniform; total time=   1.7s\n",
      "[CV] END ....................n_neighbors=17, weights=uniform; total time=   1.1s\n",
      "[CV] END ....................n_neighbors=17, weights=uniform; total time=   1.1s\n",
      "[CV] END ...................n_neighbors=17, weights=distance; total time=   0.9s\n",
      "[CV] END ...................n_neighbors=17, weights=distance; total time=   1.2s\n",
      "[CV] END ...................n_neighbors=17, weights=distance; total time=   1.8s\n",
      "[CV] END ...................n_neighbors=17, weights=distance; total time=   1.4s\n",
      "[CV] END ...................n_neighbors=17, weights=distance; total time=   1.3s\n",
      "[CV] END ....................n_neighbors=18, weights=uniform; total time=   1.1s\n",
      "[CV] END ....................n_neighbors=18, weights=uniform; total time=   1.1s\n",
      "[CV] END ....................n_neighbors=18, weights=uniform; total time=   2.3s\n",
      "[CV] END ....................n_neighbors=18, weights=uniform; total time=   2.6s\n",
      "[CV] END ....................n_neighbors=18, weights=uniform; total time=   2.7s\n",
      "[CV] END ...................n_neighbors=18, weights=distance; total time=   2.1s\n",
      "[CV] END ...................n_neighbors=18, weights=distance; total time=   1.4s\n",
      "[CV] END ...................n_neighbors=18, weights=distance; total time=   1.2s\n",
      "[CV] END ...................n_neighbors=18, weights=distance; total time=   1.2s\n",
      "[CV] END ...................n_neighbors=18, weights=distance; total time=   1.6s\n",
      "[CV] END ....................n_neighbors=19, weights=uniform; total time=   2.2s\n",
      "[CV] END ....................n_neighbors=19, weights=uniform; total time=   2.1s\n",
      "[CV] END ....................n_neighbors=19, weights=uniform; total time=   1.5s\n",
      "[CV] END ....................n_neighbors=19, weights=uniform; total time=   1.5s\n",
      "[CV] END ....................n_neighbors=19, weights=uniform; total time=   1.5s\n",
      "[CV] END ...................n_neighbors=19, weights=distance; total time=   2.1s\n",
      "[CV] END ...................n_neighbors=19, weights=distance; total time=   1.8s\n",
      "[CV] END ...................n_neighbors=19, weights=distance; total time=   1.7s\n",
      "[CV] END ...................n_neighbors=19, weights=distance; total time=   1.3s\n",
      "[CV] END ...................n_neighbors=19, weights=distance; total time=   1.3s\n",
      "[CV] END ....................n_neighbors=20, weights=uniform; total time=   1.5s\n",
      "[CV] END ....................n_neighbors=20, weights=uniform; total time=   2.1s\n",
      "[CV] END ....................n_neighbors=20, weights=uniform; total time=   2.3s\n",
      "[CV] END ....................n_neighbors=20, weights=uniform; total time=   2.0s\n",
      "[CV] END ....................n_neighbors=20, weights=uniform; total time=   1.5s\n",
      "[CV] END ...................n_neighbors=20, weights=distance; total time=   1.2s\n",
      "[CV] END ...................n_neighbors=20, weights=distance; total time=   1.4s\n",
      "[CV] END ...................n_neighbors=20, weights=distance; total time=   2.1s\n",
      "[CV] END ...................n_neighbors=20, weights=distance; total time=   1.7s\n",
      "[CV] END ...................n_neighbors=20, weights=distance; total time=   1.8s\n",
      "[CV] END ....................n_neighbors=21, weights=uniform; total time=   1.6s\n",
      "[CV] END ....................n_neighbors=21, weights=uniform; total time=   1.5s\n",
      "[CV] END ....................n_neighbors=21, weights=uniform; total time=   1.5s\n",
      "[CV] END ....................n_neighbors=21, weights=uniform; total time=   2.1s\n",
      "[CV] END ....................n_neighbors=21, weights=uniform; total time=   2.2s\n",
      "[CV] END ...................n_neighbors=21, weights=distance; total time=   1.8s\n",
      "[CV] END ...................n_neighbors=21, weights=distance; total time=   1.6s\n",
      "[CV] END ...................n_neighbors=21, weights=distance; total time=   1.4s\n",
      "[CV] END ...................n_neighbors=21, weights=distance; total time=   2.6s\n",
      "[CV] END ...................n_neighbors=21, weights=distance; total time=   2.1s\n",
      "[CV] END ....................n_neighbors=22, weights=uniform; total time=   2.1s\n",
      "[CV] END ....................n_neighbors=22, weights=uniform; total time=   1.7s\n",
      "[CV] END ....................n_neighbors=22, weights=uniform; total time=   1.5s\n",
      "[CV] END ....................n_neighbors=22, weights=uniform; total time=   1.6s\n",
      "[CV] END ....................n_neighbors=22, weights=uniform; total time=   2.0s\n",
      "[CV] END ...................n_neighbors=22, weights=distance; total time=   1.7s\n",
      "[CV] END ...................n_neighbors=22, weights=distance; total time=   1.9s\n",
      "[CV] END ...................n_neighbors=22, weights=distance; total time=   1.5s\n",
      "[CV] END ...................n_neighbors=22, weights=distance; total time=   1.2s\n",
      "[CV] END ...................n_neighbors=22, weights=distance; total time=   1.2s\n",
      "[CV] END ....................n_neighbors=23, weights=uniform; total time=   1.8s\n",
      "[CV] END ....................n_neighbors=23, weights=uniform; total time=   2.1s\n",
      "[CV] END ....................n_neighbors=23, weights=uniform; total time=   2.2s\n",
      "[CV] END ....................n_neighbors=23, weights=uniform; total time=   1.6s\n",
      "[CV] END ....................n_neighbors=23, weights=uniform; total time=   1.6s\n",
      "[CV] END ...................n_neighbors=23, weights=distance; total time=   1.2s\n",
      "[CV] END ...................n_neighbors=23, weights=distance; total time=   1.7s\n",
      "[CV] END ...................n_neighbors=23, weights=distance; total time=   2.0s\n",
      "[CV] END ...................n_neighbors=23, weights=distance; total time=   1.8s\n",
      "[CV] END ...................n_neighbors=23, weights=distance; total time=   1.4s\n",
      "[CV] END ....................n_neighbors=24, weights=uniform; total time=   1.8s\n",
      "[CV] END ....................n_neighbors=24, weights=uniform; total time=   1.9s\n",
      "[CV] END ....................n_neighbors=24, weights=uniform; total time=   2.3s\n",
      "[CV] END ....................n_neighbors=24, weights=uniform; total time=   2.4s\n",
      "[CV] END ....................n_neighbors=24, weights=uniform; total time=   1.8s\n",
      "[CV] END ...................n_neighbors=24, weights=distance; total time=   1.2s\n",
      "[CV] END ...................n_neighbors=24, weights=distance; total time=   1.2s\n",
      "[CV] END ...................n_neighbors=24, weights=distance; total time=   1.4s\n",
      "[CV] END ...................n_neighbors=24, weights=distance; total time=   2.0s\n",
      "[CV] END ...................n_neighbors=24, weights=distance; total time=   1.8s\n"
     ]
    }
   ],
   "source": [
    "# initialize plain knn model\n",
    "knn_model = KNeighborsClassifier()\n",
    "params_grid = dict(n_neighbors=list(range(1, 25)),\n",
    "                   weights=['uniform', 'distance'])\n",
    "\n",
    "# create grid\n",
    "grid = GridSearchCV(knn_model, params_grid, cv=5, scoring='accuracy', return_train_score=False, verbose=2)\n",
    "\n",
    "# train model\n",
    "grid_search = grid.fit(X_train, y_train)"
   ],
   "metadata": {
    "collapsed": false,
    "pycharm": {
     "name": "#%%\n"
    }
   }
  },
  {
   "cell_type": "code",
   "execution_count": 34,
   "outputs": [
    {
     "name": "stdout",
     "output_type": "stream",
     "text": [
      "{'n_neighbors': 1, 'weights': 'uniform'}\n",
      "0.9350905244048816\n"
     ]
    }
   ],
   "source": [
    "print(grid_search.best_params_)\n",
    "print(grid_search.best_score_)"
   ],
   "metadata": {
    "collapsed": false,
    "pycharm": {
     "name": "#%%\n"
    }
   }
  },
  {
   "cell_type": "code",
   "execution_count": 39,
   "outputs": [
    {
     "name": "stdout",
     "output_type": "stream",
     "text": [
      "Accuracy of the model is: 0.94\n"
     ]
    }
   ],
   "source": [
    "# apply optimized params on knn and test model\n",
    "knn_model = KNeighborsClassifier(n_neighbors=1)\n",
    "knn_model.fit(X_train, y_train)\n",
    "\n",
    "y_pred = knn_model.predict(X_test)\n",
    "\n",
    "print(f\"Accuracy of the model is: {round(metrics.accuracy_score(y_test, y_pred), 2)}\")\n",
    "confusion_matrix = metrics.confusion_matrix(y_test, y_pred)"
   ],
   "metadata": {
    "collapsed": false,
    "pycharm": {
     "name": "#%%\n"
    }
   }
  },
  {
   "cell_type": "code",
   "execution_count": 45,
   "outputs": [
    {
     "data": {
      "text/plain": "Text(0.5, 1.0, 'Confusion Matrix KNN Model 94% Accuracy')"
     },
     "execution_count": 45,
     "metadata": {},
     "output_type": "execute_result"
    },
    {
     "data": {
      "text/plain": "<Figure size 432x288 with 2 Axes>",
      "image/png": "[encoded data removed]"
     },
     "metadata": {
      "needs_background": "light"
     },
     "output_type": "display_data"
    }
   ],
   "source": [
    "heat = sns.heatmap(confusion_matrix/np.sum(confusion_matrix), annot=True, fmt='.2%', cmap='Blues')\n",
    "\n",
    "heat.set_title('Confusion Matrix KNN Model 94% Accuracy')"
   ],
   "metadata": {
    "collapsed": false,
    "pycharm": {
     "name": "#%%\n"
    }
   }
  },
  {
   "cell_type": "code",
   "execution_count": 47,
   "outputs": [],
   "source": [
    "# export trained & tested model with pickle\n",
    "with open('credit_approval_knn_model.pkl', 'wb') as file:\n",
    "    pickle.dump(knn_model, file)"
   ],
   "metadata": {
    "collapsed": false,
    "pycharm": {
     "name": "#%%\n"
    }
   }
  },
  {
   "cell_type": "code",
   "execution_count": 48,
   "outputs": [],
   "source": [
    "# with open('credit_approval_knn_model.pkl', 'rb') as file:\n",
    "#    test_model = pickle.load(file)"
   ],
   "metadata": {
    "collapsed": false,
    "pycharm": {
     "name": "#%%\n"
    }
   }
  },
  {
   "cell_type": "code",
   "execution_count": 51,
   "outputs": [
    {
     "data": {
      "text/plain": "0.9384965831435079"
     },
     "execution_count": 51,
     "metadata": {},
     "output_type": "execute_result"
    }
   ],
   "source": [
    "'''\n",
    "# safe test the model\n",
    "y_pred = test_model.predict(X_test)\n",
    "metrics.accuracy_score(y_test, y_pred)\n",
    "'''"
   ],
   "metadata": {
    "collapsed": false,
    "pycharm": {
     "name": "#%%\n"
    }
   }
  }
 ],
 "metadata": {
  "kernelspec": {
   "display_name": "Python 3",
   "language": "python",
   "name": "python3"
  },
  "language_info": {
   "codemirror_mode": {
    "name": "ipython",
    "version": 2
   },
   "file_extension": ".py",
   "mimetype": "text/x-python",
   "name": "python",
   "nbconvert_exporter": "python",
   "pygments_lexer": "ipython2",
   "version": "2.7.6"
  }
 },
 "nbformat": 4,
 "nbformat_minor": 0
}